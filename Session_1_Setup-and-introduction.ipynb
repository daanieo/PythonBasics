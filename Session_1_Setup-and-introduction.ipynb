{
 "cells": [
  {
   "cell_type": "markdown",
   "metadata": {},
   "source": [
    "\n",
    "![SVG from www](https://upload.wikimedia.org/wikipedia/commons/thumb/a/a2/Kühne_Logistics_University_logo_2019.svg/100px-Kühne_Logistics_University_logo_2019.svg.png)  \n",
    "# Python Basics course September 2022  \n",
    "### Kuehne Logistics University  \n"
   ]
  },
  {
   "cell_type": "markdown",
   "metadata": {},
   "source": [
    "# Session 1\n",
    "Introduction to programming in the Python programming language. The goal of the first session is to learn about a programming language in general by getting familiar with the terminology. Also, in order to get ready for the coming sessions, we will jointly set up the programming environment and supporting software. In support hereto we have the first three chapters of the book \"A Beginners Guide to Python 3 Programming\" by John Hunt (available on Moodle and Github). \n",
    "\n",
    "In preparation you can download and (try to) install [Anaconda](https://www.anaconda.com/) (we recommend doing this, because it's quite a big file). \n",
    "\n",
    "Other **useful resources** for (help with) programming in Python (or any other language): \n",
    "- https://docs.python.org/3/ The main Python 3 documentation site. It contains tutorials, library references, set up and installation guides as well as Python how-tos.  \n",
    "- https://www.fullstackpython.com/email.html is a monthly newsletter that focusses on a single Python topic each month, such as a new library or module.  \n",
    "- https://stackoverflow.com/ for specific coding questions that you might have.\n"
   ]
  },
  {
   "cell_type": "markdown",
   "metadata": {},
   "source": [
    "## Why learn Python?  \n",
    "1- Easy to learn  \n",
    "2- Data Science Community uses it and it provides standards  \n",
    "3- It runs in almost all operation systems  \n",
    "4- It has many libraries  \n",
    "5- It is free!  \n",
    "\n",
    "## General terminology and software logic\n",
    "![](Figures/SoftwareLogic.png)\n",
    "\n",
    "* The interpreter \"translates\" the written Python code into machine-understandable code; it essentially takes care of the execution. In real life, you will most probably notice this as the Python *version*, in this case 3.x\n",
    "* The kernel takes care of communicating your code to the interpreter. It differs per IDE how this exactly works. We encounter this mostly when we made a mistake and froze a program: resetting it clears the memory and ends the execution. \n",
    "* The IDE is the part that you _see_: graphical software where you can write, run and test your code. Although there are many IDEs out there, we'll stick to Jupyter Lab or Jupyter Notebook for this course. \n",
    "* Jupyter Notebooks are files that combine the execution of Python code and [Markdown](https://www.markdownguide.org/) text. This allows you to intuitively communicate your code. \n",
    "* Libraries essentially are programmes that were written by other developers. These can be small, supporting a scientific publication or widely used tools. In this course we will make a start with using a couple, for data manipulation, visualisations and regressions. Full knowledge on the possibilities of each of them requires a course in its own (and a lot of practice!). \n",
    "  * [Data manipulation and analysis with Pandas](https://pandas.pydata.org/)\n",
    "  * [Data visualisation with Seaborn](https://seaborn.pydata.org/)\n",
    "  * [Optimization, regression, whatever algorithms with Scipy](https://scipy.org/)\n",
    "\n",
    "Lastly: [Anaconda](https://anaconda.com/). Anaconda is piece of software that collects various data analysis-related software solutions and installs them neatly in one place. In our case, it will take care of the installation of all \"parts\". \n",
    "\n"
   ]
  },
  {
   "cell_type": "markdown",
   "metadata": {},
   "source": [
    "# Getting ready\n"
   ]
  },
  {
   "cell_type": "markdown",
   "metadata": {},
   "source": [
    "## Anaconda\n",
    "First, download and install the latest version of Anaconda. When installed succesfully, you'll find the so-called Navigator. This you can use to launch our IDE: Jupyter Lab or Jupyter Notebook. \n",
    "\n",
    "![](Figures/Navigator.png)"
   ]
  },
  {
   "cell_type": "markdown",
   "metadata": {},
   "source": [
    "Alternatively, you can use the Anaconda Prompt by typing in `jupyter lab` or `jupyter notebook`, depending on the desired IDE. This provides the same functionality but non-graphical. \n",
    "\n",
    "![](Figures/Prompt.png)"
   ]
  },
  {
   "cell_type": "markdown",
   "metadata": {},
   "source": [
    "### Updating\n",
    "\n",
    "https://docs.conda.io/en/latest/\n",
    "\n",
    "The same Prompt can be used to update the Anaconda environment, simply by typing: \n",
    "\n",
    "`conda update conda`\n",
    "\n",
    "\n",
    "### Installing libraries\n",
    "\n",
    "In the fourth session we'll be working on some data files. We'll be doing this with the library called `pandas`. To install, you would type: \n",
    "\n",
    "`conda install pandas`\n",
    "\n",
    "Note: Pandas should be part of the standard Anaconda installation. \n",
    "\n",
    "Similar to the conda package manager, the [Python Package Index](https://pypi.org/project/pip/) exists. Usually, what's available in Pip is also available in Conda, but not always. Since Conda has significantly better version management, we recommend using that *unless* something is not available. To install for example `pandas` using pip, type: \n",
    "\n",
    "`pip install pandas`\n",
    "\n"
   ]
  },
  {
   "cell_type": "markdown",
   "metadata": {},
   "source": [
    "## Getting a Github Account\n",
    "\n",
    "We recommend you to get a [Github](https://github.com/) account. Github is a code sharing platform for developers of all shapes and sizes. The material for this course will be uploaded on this repository: \n",
    "https://github.com/daanieo/PythonBasics\n",
    "\n",
    "The supporting material (examples and exercises) from John Hunt's book can be found in: https://github.com/johnehunt/beginnerspython3.git"
   ]
  },
  {
   "cell_type": "markdown",
   "metadata": {
    "tags": []
   },
   "source": [
    "# Let's get started\n",
    "\n",
    "## Jupyter Lab / Notebook \n",
    "\n",
    "![](Figures/Jupyter.PNG)"
   ]
  },
  {
   "cell_type": "markdown",
   "metadata": {},
   "source": [
    "**Using the environment**\n",
    "\n",
    "The Add, Cut, Copy, Paste symbols relate to cells, not to content of the cells. \n",
    "\n",
    "The play and stop icon run and interrupt programmes, respectively. The cells either display Code, Markdown or Plain text. The desired formatting can be selected in the dropdown list.  \n",
    "\n",
    "Besides the usual menu bar options, the Jupyter environments know two others:\n",
    "- Run: A lot of different options on how to run the Notebook. \n",
    "- Kernel: options to restart the kernel and/or re-run the Notebook. This might be useful if you want to clear your computer's memory or a programme is malfunctioning. \n",
    "\n",
    "**Relevant shortcuts**\n",
    " - ESC takes users into command mode view\n",
    " - ENTER takes users into cell mode view\n",
    " \n",
    " - Ctrl + Enter = Run the cell\n",
    " - Shift + Enter = Run the cell and select the cell below\n",
    " - Alt + Enter = Run the cell and insert a new cell below\n",
    " \n",
    " - B = inserts a cell below the currently selected cell. Before using this make sure that you are in command mode (by pressing ESC)\n",
    " - D + D = Pressing D two times in a quick succession in command mode deletes the currently selected cell\n",
    " - M = change current cell to a markdown cell, Y = change it to a code cell,  R = change it to a raw cell\n",
    " \n",
    " - Ctrl + S = Save\n",
    " \n",
    "### Pycharm  \n",
    "\n",
    "Alternatively, you can use PyCharm, which is also available through Anaconda. "
   ]
  },
  {
   "cell_type": "markdown",
   "metadata": {},
   "source": [
    "# 5) Run your first program  "
   ]
  },
  {
   "cell_type": "markdown",
   "metadata": {},
   "source": [
    "There are different ways of running a program:  \n",
    "- Using the python interpreter  \n",
    "- Stored in a file and run using the python command  \n",
    "- Run as a script file specifying the environment  \n",
    "- From whithin a Python development environment such as Pycharm"
   ]
  },
  {
   "cell_type": "code",
   "execution_count": 1,
   "metadata": {},
   "outputs": [
    {
     "name": "stdout",
     "output_type": "stream",
     "text": [
      "Hello World\n"
     ]
    }
   ],
   "source": [
    "print('Hello World')"
   ]
  },
  {
   "cell_type": "code",
   "execution_count": 1,
   "metadata": {},
   "outputs": [
    {
     "name": "stdout",
     "output_type": "stream",
     "text": [
      "Enter your name:  Oliver \n"
     ]
    }
   ],
   "source": [
    "user_name = input('Enter your name: ')"
   ]
  },
  {
   "cell_type": "code",
   "execution_count": 2,
   "metadata": {},
   "outputs": [
    {
     "name": "stdout",
     "output_type": "stream",
     "text": [
      "Hello Oliver \n"
     ]
    }
   ],
   "source": [
    "print('Hello', user_name)"
   ]
  },
  {
   "cell_type": "code",
   "execution_count": 6,
   "metadata": {},
   "outputs": [
    {
     "name": "stdout",
     "output_type": "stream",
     "text": [
      "Hello, world\n",
      "Enter your name:  Bal Bal\n",
      "Hello Bal Bal\n",
      "What is the name of your best friend:  Bla lba\n",
      "Hello Best Friend Bla lba\n"
     ]
    }
   ],
   "source": [
    "print('Hello, world')\n",
    "name = input('Enter your name: ')\n",
    "print('Hello', name)\n",
    "name = input('What is the name of your best friend: ')\n",
    "print('Hello Best Friend', name)"
   ]
  },
  {
   "cell_type": "code",
   "execution_count": 7,
   "metadata": {},
   "outputs": [
    {
     "name": "stdout",
     "output_type": "stream",
     "text": [
      "John\n",
      "42\n",
      "True\n"
     ]
    }
   ],
   "source": [
    "my_variable = 'John'\n",
    "print(my_variable)\n",
    "my_variable = 42\n",
    "print(my_variable)\n",
    "my_variable = True\n",
    "print(my_variable)"
   ]
  },
  {
   "cell_type": "code",
   "execution_count": 8,
   "metadata": {},
   "outputs": [
    {
     "name": "stdout",
     "output_type": "stream",
     "text": [
      "Enter your name:  1\n",
      "1\n"
     ]
    }
   ],
   "source": [
    "# This is a comment\n",
    "name = input('Enter your name: ')\n",
    "# This is another comment\n",
    "print(name) # this is a comment to the end of the line"
   ]
  },
  {
   "cell_type": "markdown",
   "metadata": {},
   "source": [
    "- So, variables can hold any string such as \"Tamara\" or \"John\" as well as it can hold other type of data such as numbers or the values 'True' and 'False'.\n",
    "- Be aware of naming conventions: always use underscores and not spaces and always in lower case.\n",
    "- Assignment operators \"=\".\n",
    "- Statements: an instruction that the Python interpreter can execute\n",
    "- Comments in the code: '#'"
   ]
  },
  {
   "cell_type": "markdown",
   "metadata": {},
   "source": [
    "## Functions\n",
    "\n",
    "Now you have some experience with running code in a list, also called a *script*, we will explore other methods of running code. One fundamental one, especially for scientific programming, are **functions**. These are particularly useful when you want to re-use your code. \n",
    "\n",
    "A function is defined by the statement `def` and can be summoned to return information by the `return` statement. "
   ]
  },
  {
   "cell_type": "code",
   "execution_count": 3,
   "metadata": {},
   "outputs": [
    {
     "name": "stdout",
     "output_type": "stream",
     "text": [
      "4\n",
      "8\n"
     ]
    }
   ],
   "source": [
    "def Doubling(x): # Functions that doubles the input x\n",
    "    \n",
    "    double_x = x*2 # Making the calculation\n",
    "    \n",
    "    return double_x # Returning the result \n",
    "\n",
    "a = 2\n",
    "double_a = Doubling(a)\n",
    "print(double_a)\n",
    "\n",
    "# Or if we want to know the double of 4 \n",
    "print(Doubling(4))    "
   ]
  },
  {
   "cell_type": "markdown",
   "metadata": {
    "jp-MarkdownHeadingCollapsed": true,
    "tags": []
   },
   "source": [
    "We can also add the functionality that we just learnt, but in a function: \n",
    "\n",
    "Note how the have to add the `float(x)` instead of `x`. The `input()` function returns the input value as a `string`. Spoiler for next week, but more information [here](https://www.w3schools.com/python/python_datatypes.asp).\n"
   ]
  },
  {
   "cell_type": "code",
   "execution_count": 5,
   "metadata": {},
   "outputs": [
    {
     "name": "stdin",
     "output_type": "stream",
     "text": [
      "Insert a value to double: 2\n"
     ]
    },
    {
     "name": "stdout",
     "output_type": "stream",
     "text": [
      "The double value is : 4.0\n"
     ]
    }
   ],
   "source": [
    "def Cool_Doubling():\n",
    "    x = input(\"Insert a value to double:\")\n",
    "    x_double = 2* float(x)\n",
    "    print(\"The double value is :\",x_double)\n",
    "Cool_Doubling()"
   ]
  },
  {
   "cell_type": "markdown",
   "metadata": {},
   "source": [
    "# Exercises"
   ]
  },
  {
   "cell_type": "markdown",
   "metadata": {},
   "source": [
    "__Ex1__:Create a program that displays your name and complete mailing address formatted in\n",
    "the manner that you would usually see it on the outside of an envelope. Your program\n",
    "does not need to read any input from the user"
   ]
  },
  {
   "cell_type": "markdown",
   "metadata": {},
   "source": [
    "__Ex2:__ Write a program that asks the user to enter his or her name. The program should\n",
    "respond with a message that says hello to the user, using his or her name"
   ]
  },
  {
   "cell_type": "markdown",
   "metadata": {},
   "source": [
    "__Ex3:__ Write a program that asks the user his age.The program shoud deliver a text that says \"Hello, I am _ years old\" with the users' age."
   ]
  },
  {
   "cell_type": "markdown",
   "metadata": {},
   "source": [
    "__Ex4:__ Write a program that asks the user to enter the width and length of a room. Once the values have been read, your program should compute and display the area of the room. The length and the width will be entered as floating point numbers. Include units in your prompt and output message; either feet or meters, depending on which unit you are more comfortable working with."
   ]
  },
  {
   "cell_type": "markdown",
   "metadata": {},
   "source": [
    "__Ex 5:__ Create a program that reads the length and width of a farmer’s field from the user in feet. Display the area of the field in acres.\n",
    "Hint: There are 43,560 square feet in an acre."
   ]
  },
  {
   "cell_type": "markdown",
   "metadata": {},
   "source": [
    "__Ex 6:__ Write a program that uses a function that reads a positive integer, n, from the user and then displays the sum of all of the integers from 1 to n. The sum of the first n positive integers can be computed  the formula:  \n"
   ]
  },
  {
   "cell_type": "markdown",
   "metadata": {},
   "source": [
    "$$sum =  \\displaystyle \\frac{(n)(n+1)}{2}$$\n"
   ]
  }
 ],
 "metadata": {
  "kernelspec": {
   "display_name": "Python 3 (ipykernel)",
   "language": "python",
   "name": "python3"
  },
  "language_info": {
   "codemirror_mode": {
    "name": "ipython",
    "version": 3
   },
   "file_extension": ".py",
   "mimetype": "text/x-python",
   "name": "python",
   "nbconvert_exporter": "python",
   "pygments_lexer": "ipython3",
   "version": "3.9.7"
  }
 },
 "nbformat": 4,
 "nbformat_minor": 4
}
