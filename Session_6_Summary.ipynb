{
 "cells": [
  {
   "cell_type": "markdown",
   "metadata": {},
   "source": [
    "\n",
    "![SVG from www](https://upload.wikimedia.org/wikipedia/commons/thumb/a/a2/Kühne_Logistics_University_logo_2019.svg/100px-Kühne_Logistics_University_logo_2019.svg.png)  \n",
    "# Introduction to Python  \n",
    "## The basics of python at Kuehne Logistics University  \n",
    "## Oct-2022"
   ]
  },
  {
   "cell_type": "markdown",
   "metadata": {},
   "source": [
    "# Session 6:"
   ]
  },
  {
   "cell_type": "markdown",
   "metadata": {},
   "source": [
    "## Summary of what has been learned\n",
    "- Setup python environment\n",
    "- Datatypes (Strings, Integer, Boolean, ...)\n",
    "- If-clauses and loops\n",
    "- Data manipulation with pandas library\n",
    "- Data visualisation with seaborn library"
   ]
  },
  {
   "cell_type": "markdown",
   "metadata": {},
   "source": [
    "## Feedback"
   ]
  },
  {
   "cell_type": "markdown",
   "metadata": {},
   "source": [
    "KLU students evaluate each course online and this feedback is very valuable for us as lecturers."
   ]
  },
  {
   "cell_type": "markdown",
   "metadata": {},
   "source": [
    "## Python Programs\n",
    "Python contains a vast variety of possibilities for developing programs."
   ]
  },
  {
   "cell_type": "markdown",
   "metadata": {},
   "source": [
    "Get the top stories from Google news"
   ]
  },
  {
   "cell_type": "code",
   "execution_count": 1,
   "metadata": {},
   "outputs": [
    {
     "name": "stdout",
     "output_type": "stream",
     "text": [
      "Ukraine war: Russians start leaving Ukraine's Kherson city - BBC\n",
      "https://news.google.com/__i/rss/rd/articles/CBMiLmh0dHBzOi8vd3d3LmJiYy5jb20vbmV3cy93b3JsZC1ldXJvcGUtNjMzMTE3NDTSATJodHRwczovL3d3dy5iYmMuY29tL25ld3Mvd29ybGQtZXVyb3BlLTYzMzExNzQ0LmFtcA?oc=5\n",
      "Wed, 19 Oct 2022 12:19:29 GMT\n",
      "------------------------------------------------------------\n",
      "Kristin Smart verdict: Paul Flores convicted of 1996 murder - The Washington Post\n",
      "https://news.google.com/__i/rss/rd/articles/CBMiWGh0dHBzOi8vd3d3Lndhc2hpbmd0b25wb3N0LmNvbS9uYXRpb24vMjAyMi8xMC8xOC9rcmlzdGluLXNtYXJ0LW11cmRlci10cmlhbC1wYXVsLWZsb3Jlcy_SAQA?oc=5\n",
      "Wed, 19 Oct 2022 08:50:00 GMT\n",
      "------------------------------------------------------------\n",
      "IRS Sets Higher 2023 Tax Brackets, Standard Deductions And Other Inflation Adjustments - Forbes\n",
      "https://news.google.com/__i/rss/rd/articles/CBMiigFodHRwczovL3d3dy5mb3JiZXMuY29tL3NpdGVzL2phbmV0bm92YWNrLzIwMjIvMTAvMTgvaXJzLXNldHMtaGlnaGVyLTIwMjMtdGF4LWJyYWNrZXRzLXN0YW5kYXJkLWRlZHVjdGlvbnMtYW5kLW90aGVyLWluZmxhdGlvbi1hZGp1c3RtZW50cy_SAQA?oc=5\n",
      "Tue, 18 Oct 2022 23:13:11 GMT\n",
      "------------------------------------------------------------\n",
      "What to Know as Trump Is Deposed in E. Jean Carroll Suit Accusing Him of Rape - The New York Times\n",
      "https://news.google.com/__i/rss/rd/articles/CBMiTWh0dHBzOi8vd3d3Lm55dGltZXMuY29tLzIwMjIvMTAvMTkvbnlyZWdpb24vdHJ1bXAtZS1qZWFuLWNhcnJvbGwtbGF3c3VpdC5odG1s0gEA?oc=5\n",
      "Wed, 19 Oct 2022 07:00:10 GMT\n",
      "------------------------------------------------------------\n",
      "Parents of Raleigh mass shooting suspect and victim issue statement - WTVD-TV\n",
      "https://news.google.com/__i/rss/rd/articles/CBMiUmh0dHBzOi8vYWJjMTEuY29tL3JhbGVpZ2gtc2hvb3RpbmctcGFyZW50cy1zdGF0ZW1lbnQtMTUteWVhci1vbGQtc3VzcGVjdC8xMjM0MzE1OC_SAVZodHRwczovL2FiYzExLmNvbS9hbXAvcmFsZWlnaC1zaG9vdGluZy1wYXJlbnRzLXN0YXRlbWVudC0xNS15ZWFyLW9sZC1zdXNwZWN0LzEyMzQzMTU4Lw?oc=5\n",
      "Wed, 19 Oct 2022 03:27:58 GMT\n",
      "------------------------------------------------------------\n",
      "Analyst acquitted at trial over discredited Trump dossier - The Associated Press\n",
      "https://news.google.com/__i/rss/rd/articles/CBMib2h0dHBzOi8vYXBuZXdzLmNvbS9hcnRpY2xlL3J1c3NpYS11a3JhaW5lLWRvbmFsZC10cnVtcC10aGluay10YW5rcy1qb2huLWR1cmhhbS0xMTUwMTA0YmEwMGUxNmJlYjQyODI5OWYyZDEzMGY2MNIBAA?oc=5\n",
      "Wed, 19 Oct 2022 07:27:15 GMT\n",
      "------------------------------------------------------------\n",
      "Los Angeles City Council elects Paul Krekorian as new president in wake of Martinez resignation - KABC-TV\n",
      "https://news.google.com/__i/rss/rd/articles/CBMiXGh0dHBzOi8vYWJjNy5jb20vbG9zLWFuZ2VsZXMtY2l0eS1jb3VuY2lsLXJhY2lzdC1yZW1hcmtzLWtldmluLWRlLWxlb24tZ2lsLWNlZGlsbG8vMTIzNDI1MTYv0gFgaHR0cHM6Ly9hYmM3LmNvbS9hbXAvbG9zLWFuZ2VsZXMtY2l0eS1jb3VuY2lsLXJhY2lzdC1yZW1hcmtzLWtldmluLWRlLWxlb24tZ2lsLWNlZGlsbG8vMTIzNDI1MTYv?oc=5\n",
      "Wed, 19 Oct 2022 07:23:53 GMT\n",
      "------------------------------------------------------------\n",
      "Suspect in Stockton Serial Killings Charged With 3 Counts of Murder - The New York Times\n",
      "https://news.google.com/__i/rss/rd/articles/CBMiQWh0dHBzOi8vd3d3Lm55dGltZXMuY29tLzIwMjIvMTAvMTgvdXMvc3RvY2t0b24tc2VyaWFsLWtpbGxlci5odG1s0gEA?oc=5\n",
      "Tue, 18 Oct 2022 23:33:56 GMT\n",
      "------------------------------------------------------------\n",
      "Republican Midterm Prospects Brighten in Closing Weeks of Election - The Wall Street Journal\n",
      "https://news.google.com/__i/rss/rd/articles/CBMia2h0dHBzOi8vd3d3Lndzai5jb20vYXJ0aWNsZXMvcmVwdWJsaWNhbi1taWR0ZXJtLXByb3NwZWN0cy1icmlnaHRlbi1pbi1jbG9zaW5nLXdlZWtzLW9mLWVsZWN0aW9uLTExNjY2MTcxODAy0gEA?oc=5\n",
      "Wed, 19 Oct 2022 09:30:00 GMT\n",
      "------------------------------------------------------------\n",
      "Florida police cameras show August arrests for alleged voter fraud - CNN\n",
      "https://news.google.com/__i/rss/rd/articles/CBMicmh0dHBzOi8vd3d3LmNubi5jb20vMjAyMi8xMC8xOS9wb2xpdGljcy90YW1wYS1wb2xpY2UtYm9keS1jYW0tdmlkZW8tdm90ZXItZnJhdWQtYXJyZXN0LWZsb3JpZGEtZGVzYW50aXMvaW5kZXguaHRtbNIBAA?oc=5\n",
      "Wed, 19 Oct 2022 10:40:00 GMT\n",
      "------------------------------------------------------------\n",
      "People delay turning heating on as UK inflation soars - BBC\n",
      "https://news.google.com/__i/rss/rd/articles/CBMiKmh0dHBzOi8vd3d3LmJiYy5jb20vbmV3cy9idXNpbmVzcy02MzI0MDYyOdIBLmh0dHBzOi8vd3d3LmJiYy5jb20vbmV3cy9idXNpbmVzcy02MzI0MDYyOS5hbXA?oc=5\n",
      "Wed, 19 Oct 2022 12:04:16 GMT\n",
      "------------------------------------------------------------\n",
      "Iranian rock climber arrives back in Tehran after competing without hijab - CNN\n",
      "https://news.google.com/__i/rss/rd/articles/CBMiW2h0dHBzOi8vd3d3LmNubi5jb20vMjAyMi8xMC8xOC9zcG9ydC9pcmFuaWFuLWNsaW1iZXItZWxuYXotcmVrYWJpLWhpamFiLWludGwtc3B0L2luZGV4Lmh0bWzSAV9odHRwczovL2FtcC5jbm4uY29tL2Nubi8yMDIyLzEwLzE4L3Nwb3J0L2lyYW5pYW4tY2xpbWJlci1lbG5hei1yZWthYmktaGlqYWItaW50bC1zcHQvaW5kZXguaHRtbA?oc=5\n",
      "Wed, 19 Oct 2022 08:54:00 GMT\n",
      "------------------------------------------------------------\n",
      "Hong Kong announces plans to ‘trawl the world for talents’ - CNBC\n",
      "https://news.google.com/__i/rss/rd/articles/CBMiZWh0dHBzOi8vd3d3LmNuYmMuY29tLzIwMjIvMTAvMTkvaG9uZy1rb25nLXBvbGljeS1hZGRyZXNzLWNoaWVmLWV4ZWN1dGl2ZS1qb2huLWxlZXMtbWFpZGVuLXNwZWVjaC5odG1s0gEA?oc=5\n",
      "Wed, 19 Oct 2022 03:33:00 GMT\n",
      "------------------------------------------------------------\n",
      "Iran says ready to talk to Ukraine on claims of arming Russia - Al Jazeera English\n",
      "https://news.google.com/__i/rss/rd/articles/CBMiZ2h0dHBzOi8vd3d3LmFsamF6ZWVyYS5jb20vbmV3cy8yMDIyLzEwLzE5L2lyYW4tc2F5cy1yZWFkeS10by10YWxrLXRvLXVrcmFpbmUtb24tY2xhaW1zLW9mLWFybWluZy1ydXNzaWHSAWtodHRwczovL3d3dy5hbGphemVlcmEuY29tL2FtcC9uZXdzLzIwMjIvMTAvMTkvaXJhbi1zYXlzLXJlYWR5LXRvLXRhbGstdG8tdWtyYWluZS1vbi1jbGFpbXMtb2YtYXJtaW5nLXJ1c3NpYQ?oc=5\n",
      "Wed, 19 Oct 2022 10:34:24 GMT\n",
      "------------------------------------------------------------\n",
      "Biden Plans To Refill The SPR When Oil Prices Fall Below $72 - OilPrice.com\n",
      "https://news.google.com/__i/rss/rd/articles/CBMia2h0dHBzOi8vb2lscHJpY2UuY29tL0VuZXJneS9FbmVyZ3ktR2VuZXJhbC9CaWRlbi1QbGFucy1Uby1SZWZpbGwtVGhlLVNQUi1XaGVuLU9pbC1QcmljZXMtRmFsbC1CZWxvdy03Mi5odG1s0gEA?oc=5\n",
      "Wed, 19 Oct 2022 06:18:25 GMT\n",
      "------------------------------------------------------------\n",
      "Netflix Adds 2.4 Million Subscribers, Reversing a Decline - The New York Times\n",
      "https://news.google.com/__i/rss/rd/articles/CBMiU2h0dHBzOi8vd3d3Lm55dGltZXMuY29tLzIwMjIvMTAvMTgvYnVzaW5lc3MvbWVkaWEvbmV0ZmxpeC1zdWJzY3JpYmVycy1lYXJuaW5ncy5odG1s0gEA?oc=5\n",
      "Wed, 19 Oct 2022 11:45:00 GMT\n",
      "------------------------------------------------------------\n",
      "Blow to Amazon union drive as New York workers reject latest bid - The Guardian\n",
      "https://news.google.com/__i/rss/rd/articles/CBMiV2h0dHBzOi8vd3d3LnRoZWd1YXJkaWFuLmNvbS90ZWNobm9sb2d5LzIwMjIvb2N0LzE4L2FtYXpvbi11bmlvbi13b3JrZXJzLW5ldy15b3JrLWFsYmFuedIBAA?oc=5\n",
      "Wed, 19 Oct 2022 01:00:00 GMT\n",
      "------------------------------------------------------------\n",
      "Rolls-Royce's first EV is the $413,500 Spectre coupe - Engadget\n",
      "https://news.google.com/__i/rss/rd/articles/CBMiPmh0dHBzOi8vd3d3LmVuZ2FkZ2V0LmNvbS9yb2xscy1yb3ljZS1zcGVjdHJlLWV2LTE0NDgyNDc5Mi5odG1s0gEA?oc=5\n",
      "Tue, 18 Oct 2022 14:50:54 GMT\n",
      "------------------------------------------------------------\n",
      "Apple’s new iPad gets a long-awaited redesign and a steeper price - The Washington Post\n",
      "https://news.google.com/__i/rss/rd/articles/CBMiVGh0dHBzOi8vd3d3Lndhc2hpbmd0b25wb3N0LmNvbS90ZWNobm9sb2d5LzIwMjIvMTAvMTgvYXBwbGUtaXBhZC0yMDIyLXJlZGVzaWduLXByaWNlL9IBAA?oc=5\n",
      "Wed, 19 Oct 2022 02:45:00 GMT\n",
      "------------------------------------------------------------\n",
      "New Apple TV No Longer Includes Charging Cable for Siri Remote in Box - MacRumors\n",
      "https://news.google.com/__i/rss/rd/articles/CBMiT2h0dHBzOi8vd3d3Lm1hY3J1bW9ycy5jb20vMjAyMi8xMC8xOC9hcHBsZS10di1ub3ctc2hpcHMtd2l0aG91dC1jaGFyZ2luZy1jYWJsZS_SAQA?oc=5\n",
      "Tue, 18 Oct 2022 19:21:27 GMT\n",
      "------------------------------------------------------------\n",
      "Mario + Rabbids Sparks Of Hope Frame Rate And Resolution Detailed - Nintendo Life\n",
      "https://news.google.com/__i/rss/rd/articles/CBMibmh0dHBzOi8vd3d3Lm5pbnRlbmRvbGlmZS5jb20vbmV3cy8yMDIyLzEwL21hcmlvLXBsdXMtcmFiYmlkcy1zcGFya3Mtb2YtaG9wZS1mcmFtZS1yYXRlLWFuZC1yZXNvbHV0aW9uLWRldGFpbGVk0gEA?oc=5\n",
      "Wed, 19 Oct 2022 01:05:00 GMT\n",
      "------------------------------------------------------------\n",
      "Motorola's new rollable phone concept grows vertically instead of horizontally - Android Police\n",
      "https://news.google.com/__i/rss/rd/articles/CBMiQ2h0dHBzOi8vd3d3LmFuZHJvaWRwb2xpY2UuY29tL21vdG9yb2xhcy1uZXctcm9sbGFibGUtcGhvbmUtY29uY2VwdC_SAQA?oc=5\n",
      "Tue, 18 Oct 2022 10:49:00 GMT\n",
      "------------------------------------------------------------\n",
      "Olivia Wilde satisfies fans' cravings by sharing her salad dressing recipe - CNN\n",
      "https://news.google.com/__i/rss/rd/articles/CBMiU2h0dHBzOi8vd3d3LmNubi5jb20vMjAyMi8xMC8xOS9lbnRlcnRhaW5tZW50L29saXZpYS13aWxkZS1zYWxhZC1kcmVzc2luZy9pbmRleC5odG1s0gFXaHR0cHM6Ly9hbXAuY25uLmNvbS9jbm4vMjAyMi8xMC8xOS9lbnRlcnRhaW5tZW50L29saXZpYS13aWxkZS1zYWxhZC1kcmVzc2luZy9pbmRleC5odG1s?oc=5\n",
      "Wed, 19 Oct 2022 10:20:00 GMT\n",
      "------------------------------------------------------------\n",
      "Ted Sarandos – No Box Office Shift At Netflix With 'Knives Out' 2 Deal – Deadline - Deadline\n",
      "https://news.google.com/__i/rss/rd/articles/CBMidWh0dHBzOi8vZGVhZGxpbmUuY29tLzIwMjIvMTAvbmV0ZmxpeC1nbGFzcy1vbmlvbi1hLWtuaXZlcy1vdXQtbXlzdGVyeS10ZWQtc2FyYW5kb3MtYW1jLWNpbmVtYXJrLWNpbmV3b3JsZC0xMjM1MTQ4NzU0L9IBAA?oc=5\n",
      "Tue, 18 Oct 2022 23:30:00 GMT\n",
      "------------------------------------------------------------\n",
      "Comedian James Corden apologises after Balthazar restaurant ban - BBC\n",
      "https://news.google.com/__i/rss/rd/articles/CBMiMWh0dHBzOi8vd3d3LmJiYy5jb20vbmV3cy93b3JsZC11cy1jYW5hZGEtNjMzMDU5MDHSATVodHRwczovL3d3dy5iYmMuY29tL25ld3Mvd29ybGQtdXMtY2FuYWRhLTYzMzA1OTAxLmFtcA?oc=5\n",
      "Tue, 18 Oct 2022 18:36:02 GMT\n",
      "------------------------------------------------------------\n",
      "George Floyd's daughter announces $250M lawsuit against Kanye West - Yahoo Entertainment\n",
      "https://news.google.com/__i/rss/rd/articles/CBMiW2h0dHBzOi8vd3d3LnlhaG9vLmNvbS9lbnRlcnRhaW5tZW50L2dlb3JnZS1mbG95ZC1kYXVnaHRlci1rYW55ZS13ZXN0LWxhd3N1aXQtMjAwOTM2NzgwLmh0bWzSAQA?oc=5\n",
      "Tue, 18 Oct 2022 20:09:36 GMT\n",
      "------------------------------------------------------------\n",
      "MLB playoffs: Yankees prevail over Guardians in ALDS Game 5 behind Nestor Cortes Jr., advance to face Astros - Yahoo Sports\n",
      "https://news.google.com/__i/rss/rd/articles/CBMikgFodHRwczovL3Nwb3J0cy55YWhvby5jb20vbWxiLXBsYXlvZmZzLXlhbmtlZXMtZ3VhcmRpYW5zLWFsZHMtZ2FtZS01LW5lc3Rvci1jb3J0ZXMtYWFyb24tY2l2YWxlLXNoYW5lLWJpZWJlci1hYXJvbi1qdWRnZS1hbGNzLWFzdHJvcy0xOTA1Mjg5MDAuaHRtbNIBAA?oc=5\n",
      "Wed, 19 Oct 2022 06:11:00 GMT\n",
      "------------------------------------------------------------\n",
      "NLCS: Kyle Schwarber’s 488-foot Homer Inspires Phillies in Game 1 win - The New York Times\n",
      "https://news.google.com/__i/rss/rd/articles/CBMiWWh0dHBzOi8vd3d3Lm55dGltZXMuY29tLzIwMjIvMTAvMTgvc3BvcnRzL2Jhc2ViYWxsL3BhZHJlcy1waGlsbGllcy1ubGNzLWdhbWUtMS1zY29yZS5odG1s0gEA?oc=5\n",
      "Wed, 19 Oct 2022 09:55:00 GMT\n",
      "------------------------------------------------------------\n",
      "Lakers vs. Warriors - NBA Game Recap - October 18, 2022 - ESPN\n",
      "https://news.google.com/__i/rss/rd/articles/CBMiMWh0dHBzOi8vd3d3LmVzcG4uY29tL25iYS9yZWNhcC9fL2dhbWVJZC80MDE0NjgwMTfSAQA?oc=5\n",
      "Wed, 19 Oct 2022 06:05:44 GMT\n",
      "------------------------------------------------------------\n",
      "Jim Irsay’s Comments Have Turned Up the Heat on Dan Snyder - Sports Illustrated\n",
      "https://news.google.com/__i/rss/rd/articles/CBMiT2h0dHBzOi8vd3d3LnNpLmNvbS9uZmwvMjAyMi8xMC8xOS9qaW0taXJzYXktdHVybnMtdXAtaGVhdC1kYW4tc255ZGVyLWNvbW1hbmRlcnPSAVRodHRwczovL3d3dy5zaS5jb20vLmFtcC9uZmwvMjAyMi8xMC8xOS9qaW0taXJzYXktdHVybnMtdXAtaGVhdC1kYW4tc255ZGVyLWNvbW1hbmRlcnM?oc=5\n",
      "Wed, 19 Oct 2022 02:17:55 GMT\n",
      "------------------------------------------------------------\n",
      "James A. McDivitt, Commander in Early NASA Triumphs, Is Dead at 93 - The New York Times\n",
      "https://news.google.com/__i/rss/rd/articles/CBMiS2h0dHBzOi8vd3d3Lm55dGltZXMuY29tLzIwMjIvMTAvMTcvc2NpZW5jZS9zcGFjZS9qYW1lcy1hLW1jZGl2aXR0LWRlYWQuaHRtbNIBAA?oc=5\n",
      "Tue, 18 Oct 2022 19:44:00 GMT\n",
      "------------------------------------------------------------\n",
      "Next pandemic may come from melting glaciers, new data shows - The Guardian\n",
      "https://news.google.com/__i/rss/rd/articles/CBMia2h0dHBzOi8vd3d3LnRoZWd1YXJkaWFuLmNvbS9zY2llbmNlLzIwMjIvb2N0LzE5L25leHQtcGFuZGVtaWMtbWF5LWNvbWUtZnJvbS1tZWx0aW5nLWdsYWNpZXJzLW5ldy1kYXRhLXNob3dz0gFraHR0cHM6Ly9hbXAudGhlZ3VhcmRpYW4uY29tL3NjaWVuY2UvMjAyMi9vY3QvMTkvbmV4dC1wYW5kZW1pYy1tYXktY29tZS1mcm9tLW1lbHRpbmctZ2xhY2llcnMtbmV3LWRhdGEtc2hvd3M?oc=5\n",
      "Wed, 19 Oct 2022 10:25:00 GMT\n",
      "------------------------------------------------------------\n",
      "You See a Venomous Black Widow Spider. These Lizards See a Snack. - The New York Times\n",
      "https://news.google.com/__i/rss/rd/articles/CBMiS2h0dHBzOi8vd3d3Lm55dGltZXMuY29tLzIwMjIvMTAvMTgvc2NpZW5jZS9saXphcmRzLWVhdGluZy1ibGFjay13aWRvd3MuaHRtbNIBAA?oc=5\n",
      "Tue, 18 Oct 2022 23:01:07 GMT\n",
      "------------------------------------------------------------\n",
      "NASA’s NEOWISE Space Telescope Takes 12-Year Time-Lapse Movie of Entire Sky - SciTechDaily\n",
      "https://news.google.com/__i/rss/rd/articles/CBMiZGh0dHBzOi8vc2NpdGVjaGRhaWx5LmNvbS9uYXNhcy1uZW93aXNlLXNwYWNlLXRlbGVzY29wZS10YWtlcy0xMi15ZWFyLXRpbWUtbGFwc2UtbW92aWUtb2YtZW50aXJlLXNreS_SAWhodHRwczovL3NjaXRlY2hkYWlseS5jb20vbmFzYXMtbmVvd2lzZS1zcGFjZS10ZWxlc2NvcGUtdGFrZXMtMTIteWVhci10aW1lLWxhcHNlLW1vdmllLW9mLWVudGlyZS1za3kvYW1wLw?oc=5\n",
      "Wed, 19 Oct 2022 08:58:02 GMT\n",
      "------------------------------------------------------------\n",
      "As flu cases soar in Georgia, the CDC urges everyone to get the flu shot - Atlanta News First\n",
      "https://news.google.com/__i/rss/rd/articles/CBMiK2h0dHBzOi8vd3d3LnlvdXR1YmUuY29tL3dhdGNoP3Y9MnJqXzllRnRDY03SAQA?oc=5\n",
      "Tue, 18 Oct 2022 22:56:46 GMT\n",
      "------------------------------------------------------------\n",
      "Boston University Pushes Back on Claims of New ‘Deadly' COVID Strain - NBC10 Boston\n",
      "https://news.google.com/__i/rss/rd/articles/CBMicGh0dHBzOi8vd3d3Lm5iY2Jvc3Rvbi5jb20vbmV3cy9sb2NhbC9ib3N0b24tdW5pdmVyc2l0eS1wdXNoZXMtYmFjay1vbi1jbGFpbXMtb2YtbmV3LWRlYWRseS1jb3ZpZC1zdHJhaW4vMjg2NTgxNS_SAXZodHRwczovL3d3dy5uYmNib3N0b24uY29tL25ld3MvbG9jYWwvYm9zdG9uLXVuaXZlcnNpdHktcHVzaGVzLWJhY2stb24tY2xhaW1zLW9mLW5ldy1kZWFkbHktY292aWQtc3RyYWluLzI4NjU4MTUvP2FtcD0x?oc=5\n",
      "Tue, 18 Oct 2022 16:17:50 GMT\n",
      "------------------------------------------------------------\n",
      "Hair-straightening chemicals and uterine cancer: Here's what you should know - The Washington Post\n",
      "https://news.google.com/__i/rss/rd/articles/CBMiW2h0dHBzOi8vd3d3Lndhc2hpbmd0b25wb3N0LmNvbS93ZWxsbmVzcy8yMDIyLzEwLzE4L2NoZW1pY2FsLWhhaXItc3RyYWlnaHRlbi11dGVyaW5lLWNhbmNlci_SAQA?oc=5\n",
      "Tue, 18 Oct 2022 20:39:00 GMT\n",
      "------------------------------------------------------------\n",
      "Bill Gates Has Big News About Terrible Disease - TheStreet\n",
      "https://news.google.com/__i/rss/rd/articles/CBMiZ2h0dHBzOi8vd3d3LnRoZXN0cmVldC5jb20vdGVjaG5vbG9neS90ZW5hY2lvdXMtYmlsbC1nYXRlcy1wdXRzLXdlYWx0aC1pbnRvLWZpZ2h0LWFnYWluc3QtZGVhZGx5LWRpc2Vhc2XSAQA?oc=5\n",
      "Mon, 17 Oct 2022 21:23:48 GMT\n",
      "------------------------------------------------------------\n"
     ]
    }
   ],
   "source": [
    "import bs4\n",
    "from bs4 import BeautifulSoup as soup\n",
    "from urllib.request import urlopen\n",
    "\n",
    "news_url=\"https://news.google.com/news/rss\"\n",
    "Client=urlopen(news_url)\n",
    "xml_page=Client.read()\n",
    "Client.close()\n",
    "\n",
    "soup_page=soup(xml_page,\"xml\")\n",
    "news_list=soup_page.findAll(\"item\")\n",
    "# Print news title, url and publish date\n",
    "for news in news_list:\n",
    "  print(news.title.text)\n",
    "  print(news.link.text)\n",
    "  print(news.pubDate.text)\n",
    "  print(\"-\"*60)"
   ]
  },
  {
   "cell_type": "markdown",
   "metadata": {},
   "source": [
    "Fidget Spinner game"
   ]
  },
  {
   "cell_type": "code",
   "execution_count": 2,
   "metadata": {},
   "outputs": [],
   "source": [
    "from turtle import *\n",
    "state = {'turn': 0}\n",
    "def spinner():\n",
    "    clear()\n",
    "    angle = state['turn']/10\n",
    "    right(angle)\n",
    "    forward(100)\n",
    "    dot(120, 'red')\n",
    "    back(100)\n",
    "    right(120)\n",
    "    forward(100)\n",
    "    dot(120, 'green')\n",
    "    back(100)\n",
    "    right(120)\n",
    "    forward(100)\n",
    "    dot(120, 'blue')\n",
    "    back(100)\n",
    "    right(120)\n",
    "    update()\n",
    "def animate():\n",
    "    if state['turn']>0:\n",
    "        state['turn']-=1\n",
    "\n",
    "    spinner()\n",
    "    ontimer(animate, 20)\n",
    "def flick():\n",
    "    state['turn']+=10\n",
    "\n",
    "setup(420, 420, 370, 0)\n",
    "hideturtle()\n",
    "tracer(False)\n",
    "width(20)\n",
    "onkey(flick, 'space')\n",
    "listen()\n",
    "animate()\n",
    "done()"
   ]
  },
  {
   "cell_type": "markdown",
   "metadata": {},
   "source": [
    "## Exercise:\n",
    "- Write a program which accepts the radius of a circle from the user and compute the area"
   ]
  },
  {
   "cell_type": "code",
   "execution_count": 1,
   "metadata": {},
   "outputs": [
    {
     "name": "stdin",
     "output_type": "stream",
     "text": [
      "Input the radius of the circle :  1\n"
     ]
    },
    {
     "name": "stdout",
     "output_type": "stream",
     "text": [
      "The area of the circle with radius 1.0 is: 3.141592653589793\n"
     ]
    }
   ],
   "source": [
    "from math import pi\n",
    "r = float(input (\"Input the radius of the circle : \"))\n",
    "print (\"The area of the circle with radius \" + str(r) + \" is: \" + str(pi * r**2))"
   ]
  },
  {
   "cell_type": "markdown",
   "metadata": {},
   "source": [
    "- Write a program to display the current date and time"
   ]
  },
  {
   "cell_type": "code",
   "execution_count": 2,
   "metadata": {},
   "outputs": [
    {
     "name": "stdout",
     "output_type": "stream",
     "text": [
      "Current date and time : \n",
      "2022-10-19 16:35:40\n"
     ]
    }
   ],
   "source": [
    "import datetime\n",
    "now = datetime.datetime.now()\n",
    "print (\"Current date and time : \")\n",
    "print (now.strftime(\"%Y-%m-%d %H:%M:%S\"))"
   ]
  },
  {
   "cell_type": "markdown",
   "metadata": {},
   "source": [
    "- Write a program to get a single string from two given strings, separated by a space and swap the first two characters of each string\n",
    "\n",
    "    Sample String : 'abc', 'xyz' \n",
    "\n",
    "    Expected Result : 'xyc abz'"
   ]
  },
  {
   "cell_type": "code",
   "execution_count": 3,
   "metadata": {},
   "outputs": [
    {
     "name": "stdout",
     "output_type": "stream",
     "text": [
      "xyc abz\n"
     ]
    }
   ],
   "source": [
    "def chars_mix_up(a, b):\n",
    "  new_a = b[:2] + a[2:]\n",
    "  new_b = a[:2] + b[2:]\n",
    "\n",
    "  return new_a + ' ' + new_b\n",
    "print(chars_mix_up('abc', 'xyz'))"
   ]
  },
  {
   "cell_type": "markdown",
   "metadata": {},
   "source": [
    "- Write a program to check the validity of input by users\n",
    "\n",
    "    Validation :\n",
    "\n",
    "    At least 1 letter between [a-z] and 1 letter between [A-Z].\n",
    "\n",
    "    At least 1 number between [0-9].\n",
    "\n",
    "    At least 1 character from [$#@].\n",
    "\n",
    "    Minimum length 6 characters.\n",
    "\n",
    "    Maximum length 16 characters."
   ]
  },
  {
   "cell_type": "code",
   "execution_count": 4,
   "metadata": {},
   "outputs": [
    {
     "name": "stdin",
     "output_type": "stream",
     "text": [
      "Input your password e43Rt$55\n"
     ]
    },
    {
     "name": "stdout",
     "output_type": "stream",
     "text": [
      "Valid Password\n"
     ]
    }
   ],
   "source": [
    "import re\n",
    "p= input(\"Input your password\")\n",
    "x = True\n",
    "while x:  \n",
    "    if (len(p)<6 or len(p)>12):\n",
    "        break\n",
    "    elif not re.search(\"[a-z]\",p):\n",
    "        break\n",
    "    elif not re.search(\"[0-9]\",p):\n",
    "        break\n",
    "    elif not re.search(\"[A-Z]\",p):\n",
    "        break\n",
    "    elif not re.search(\"[$#@]\",p):\n",
    "        break\n",
    "    elif re.search(\"\\s\",p):\n",
    "        break\n",
    "    else:\n",
    "        print(\"Valid Password\")\n",
    "        x=False\n",
    "        break\n",
    "\n",
    "if x:\n",
    "    print(\"Not a Valid Password\")"
   ]
  },
  {
   "cell_type": "markdown",
   "metadata": {},
   "source": [
    "- Write a  program to create a line plot of the historical stock prices of Alphabet Inc. between two specific dates. Extract data from alphabet_stock_data.csv file."
   ]
  },
  {
   "cell_type": "code",
   "execution_count": 5,
   "metadata": {},
   "outputs": [
    {
     "data": {
      "image/png": "[encoded data removed]",
      "text/plain": [
       "<Figure size 432x288 with 1 Axes>"
      ]
     },
     "metadata": {
      "needs_background": "light"
     },
     "output_type": "display_data"
    }
   ],
   "source": [
    "import pandas as pd\n",
    "\n",
    "df = pd.read_csv(\"alphabet_stock_data.csv\")\n",
    "start_date = pd.to_datetime('2020-7-1')\n",
    "end_date = pd.to_datetime('2020-09-30')                         \n",
    "df['Date'] = pd.to_datetime(df['Date']) \n",
    "new_df = (df['Date']>= start_date) & (df['Date']<= end_date)\n",
    "df1 = df.loc[new_df]\n",
    "df2 = df1.set_index('Date')\n",
    "df2['Close'].plot(kind='line');"
   ]
  },
  {
   "cell_type": "markdown",
   "metadata": {},
   "source": [
    "- Write a program to create a bar plot of the trading volume of Alphabet Inc. stock between two specific dates. In the context of a single stock trading on a stock exchange, the volume is commonly reported as the number of shares that changed hands during a given day."
   ]
  },
  {
   "cell_type": "code",
   "execution_count": 6,
   "metadata": {},
   "outputs": [
    {
     "data": {
      "image/png": "[encoded data removed]",
      "text/plain": [
       "<Figure size 432x288 with 1 Axes>"
      ]
     },
     "metadata": {
      "needs_background": "light"
     },
     "output_type": "display_data"
    }
   ],
   "source": [
    "import pandas as pd\n",
    "\n",
    "df = pd.read_csv(\"alphabet_stock_data.csv\")\n",
    "start_date = pd.to_datetime('2020-7-1')\n",
    "end_date = pd.to_datetime('2020-7-30')                         \n",
    "df['Date'] = pd.to_datetime(df['Date']) \n",
    "new_df = (df['Date']>= start_date) & (df['Date']<= end_date)\n",
    "df1 = df.loc[new_df]\n",
    "df2 = df1.set_index('Date')\n",
    "\n",
    "df2['Volume'].plot(kind='bar',title=\"Volume per Day\",ylabel='Trading Volume');"
   ]
  }
 ],
 "metadata": {
  "kernelspec": {
   "display_name": "Python 3 (ipykernel)",
   "language": "python",
   "name": "python3"
  },
  "language_info": {
   "codemirror_mode": {
    "name": "ipython",
    "version": 3
   },
   "file_extension": ".py",
   "mimetype": "text/x-python",
   "name": "python",
   "nbconvert_exporter": "python",
   "pygments_lexer": "ipython3",
   "version": "3.9.12"
  }
 },
 "nbformat": 4,
 "nbformat_minor": 4
}
