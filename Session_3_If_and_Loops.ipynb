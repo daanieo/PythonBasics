{
 "cells": [
  {
   "cell_type": "markdown",
   "metadata": {},
   "source": [
    "\n",
    "\n",
    "![SVG from www](https://upload.wikimedia.org/wikipedia/commons/thumb/a/a2/Kühne_Logistics_University_logo_2019.svg/100px-Kühne_Logistics_University_logo_2019.svg.png)  \n",
    "# Python Basics course September 2022  \n",
    "### Kuehne Logistics University  "
   ]
  },
  {
   "cell_type": "markdown",
   "metadata": {},
   "source": [
    "## Session 3: If, Else and Loops\n",
    "The third session will discuss: \n",
    "* Logical operations\n",
    "* If and Else statements\n",
    "* While loop\n",
    "* For loop\n",
    "* Setting up a “guessing game”\n",
    "\n",
    "This session corresponds with the chapters 6, 7 and 8 of the book. \n",
    "\n",
    "In the last previous two sessions code has been executed __in sequence__. This means that, for every programme you wrote, one line of logic has been used and that every command has been executed sequentially. Fundamental to programmes is the ability to make a decision based on information acquired through input or calculation. That is to make a __selection__. The selection is always based on a variable of datatype `Boolean`. \n",
    "\n",
    "A special kind of selection, where the programme sequence feeds back into the selecting command, we call an __iteration__ or a __Loop__. In Python we know two types of Loops: a `while` loop and a `for` loop, which have slightly different logic. \n",
    "\n",
    "<img src=\"Figures/Execution_format.png\" alt=\"drawing\" width=\"600\"/>"
   ]
  },
  {
   "cell_type": "markdown",
   "metadata": {},
   "source": [
    "## Comparison operators: return Boolean values\n",
    "\n",
    "Last week's so-called Boolean datatypes stand central to `if`-statements and therefore also to `while` and `for` loops. As we did last week, we can generate them ourselves by assigning them to variable as follows:"
   ]
  },
  {
   "cell_type": "code",
   "execution_count": 2,
   "metadata": {},
   "outputs": [
    {
     "name": "stdout",
     "output_type": "stream",
     "text": [
      "True is  True \n",
      "and False is  False\n"
     ]
    }
   ],
   "source": [
    "True_value = True\n",
    "False_value = False\n",
    "print(\"True is \",True_value,\"\\nand False is \",False_value)"
   ]
  },
  {
   "cell_type": "markdown",
   "metadata": {},
   "source": [
    "More interesting to know is that so-called __comparison__ and __Logical operators__ generate these Booleans. Comparison operators, as their name imply, compare two variables. The different options are: \n",
    "\n",
    "| Meaning | Sign operator | Example| \n",
    "| --- | --- | --- |\n",
    "| bigger than | `>` | (3 < 4) and (5 < 4) |\n",
    "| smaller than | `<`  | (3 < 4) or (5 == 5) |\n",
    "| is | `==` | not 3 < 2 |\n",
    "| is not | `!=` | 4 is not 5 |\n",
    "| equal/bigger than | `>=`  | (4 > 3) or (5 == 5) |\n",
    "| equal/smaller than | `<=`  | (3 < 4) or (5 == 5) |\n",
    "\n",
    "These in turn can be combines with __Logical operators__:\n",
    "\n",
    "| Textual Operator | Symbolic operator | Description | Example|\n",
    "| --- | --- | --- | --- |\n",
    "| `and` | `&&` | Returns True if both are right | (3 < 4) and (5 < 4) |\n",
    "| `or` | `\\|` | Returns True if either is correct | (3 < 4) or (3 > 5) |\n",
    "| `is not` | `! ` |Returns true if the value being tested is False | not 3 < 2 |\n",
    "\n",
    "<!-- <img src=\"Figures/boolean-operators.jpg\" alt=\"drawing\" width=\"600\"/> -->"
   ]
  },
  {
   "cell_type": "code",
   "execution_count": 9,
   "metadata": {},
   "outputs": [
    {
     "data": {
      "text/plain": [
       "True"
      ]
     },
     "execution_count": 9,
     "metadata": {},
     "output_type": "execute_result"
    }
   ],
   "source": [
    "(3<4) and (5>4) # AND operator "
   ]
  },
  {
   "cell_type": "code",
   "execution_count": 10,
   "metadata": {},
   "outputs": [
    {
     "data": {
      "text/plain": [
       "True"
      ]
     },
     "execution_count": 10,
     "metadata": {},
     "output_type": "execute_result"
    }
   ],
   "source": [
    "(3<4) or (5<4) # OR operator"
   ]
  },
  {
   "cell_type": "code",
   "execution_count": 11,
   "metadata": {},
   "outputs": [
    {
     "data": {
      "text/plain": [
       "True"
      ]
     },
     "execution_count": 11,
     "metadata": {},
     "output_type": "execute_result"
    }
   ],
   "source": [
    "not(3>4) # not-operator"
   ]
  },
  {
   "cell_type": "code",
   "execution_count": 20,
   "metadata": {},
   "outputs": [
    {
     "data": {
      "text/plain": [
       "True"
      ]
     },
     "execution_count": 20,
     "metadata": {},
     "output_type": "execute_result"
    }
   ],
   "source": [
    "not (3>4) or (5<4) # Not-OR operator"
   ]
  },
  {
   "cell_type": "markdown",
   "metadata": {},
   "source": [
    "## The if-statement\n",
    "The if-statement reads a Boolean and executes the code when this Boolean is `True`. Pay special attention to the `:` by which it is followed, and that the to-execute code is indented. A disected example is :"
   ]
  },
  {
   "cell_type": "code",
   "execution_count": 15,
   "metadata": {},
   "outputs": [
    {
     "name": "stdout",
     "output_type": "stream",
     "text": [
      "This should be a boolean:  <class 'bool'> \n",
      "\n"
     ]
    }
   ],
   "source": [
    "a=-4 # Defining the variable \n",
    "\n",
    "check_value=(a==3) # Assigning the result of the comparitive operator to \"check_value\"\n",
    "\n",
    "print(\"This should be a boolean: \",type(check_value),'\\n') # Print the datatype of \"check_value\"\n",
    "\n",
    "if check_value:\n",
    "    print(\"check_value is \",check_value,\"\\na equals \",a) # This prints when \"check_value\" is True\n",
    "    \n",
    "\n",
    "# num = int(input('Enter a number: '))\n"
   ]
  },
  {
   "cell_type": "markdown",
   "metadata": {},
   "source": [
    "Normally we do not assign a new variable for a comparitive check such as the example's `(a==3)`. We simply put the comparison, preferably between brackets, and write a positive check as follows: "
   ]
  },
  {
   "cell_type": "code",
   "execution_count": 16,
   "metadata": {},
   "outputs": [],
   "source": [
    "if (a>0):\n",
    "    print(a, 'is positive')"
   ]
  },
  {
   "cell_type": "markdown",
   "metadata": {},
   "source": [
    "Recall the importance of the indent. The first two `print` statements are executed conditionally, whereas the last is executed regardless of the input. "
   ]
  },
  {
   "cell_type": "code",
   "execution_count": 18,
   "metadata": {},
   "outputs": [
    {
     "name": "stdin",
     "output_type": "stream",
     "text": [
      "Enter a number:  -2\n"
     ]
    },
    {
     "name": "stdout",
     "output_type": "stream",
     "text": [
      "Bye\n"
     ]
    }
   ],
   "source": [
    "num = int(input('Enter a number: '))\n",
    "\n",
    "if num > 0: # Check whether the entered number is positive\n",
    "    print(num, 'is positive')\n",
    "    print(num, 'squared is', num**2)\n",
    "    \n",
    "else:\n",
    "    print('Bye')"
   ]
  },
  {
   "cell_type": "markdown",
   "metadata": {},
   "source": [
    "### The else-statement"
   ]
  },
  {
   "cell_type": "code",
   "execution_count": 32,
   "metadata": {},
   "outputs": [
    {
     "name": "stdin",
     "output_type": "stream",
     "text": [
      "Enter another number:  4\n"
     ]
    },
    {
     "name": "stdout",
     "output_type": "stream",
     "text": [
      "4 is not negative\n"
     ]
    }
   ],
   "source": [
    "num = int(input('Enter another number: '))\n",
    "\n",
    "if num < 0:\n",
    "    print (num, 'is negative')\n",
    "else:\n",
    "    print(num, 'is not negative')"
   ]
  },
  {
   "cell_type": "markdown",
   "metadata": {},
   "source": [
    "### The elif-statement\n",
    "\n",
    "The `elif`-statement is a Python-specific statement that combines the `else` and `if` statement and can be replaced by those as well. However, using `elif` makes things a lot better readable. "
   ]
  },
  {
   "cell_type": "code",
   "execution_count": 40,
   "metadata": {},
   "outputs": [
    {
     "name": "stdin",
     "output_type": "stream",
     "text": [
      "Enter how much you save per month: 3\n"
     ]
    },
    {
     "name": "stdout",
     "output_type": "stream",
     "text": [
      "Well done\n"
     ]
    }
   ],
   "source": [
    "savings = float(input('Enter how much you save per month:'))\n",
    "\n",
    "if savings ==0:\n",
    "    print('Sorry, no savings')\n",
    "else: \n",
    "    if savings < 500:\n",
    "        print('Well done')\n",
    "    else:\n",
    "        if savings < 1000:\n",
    "            print('Thats a tidy sum')\n",
    "        else:\n",
    "            if savings < 10000:\n",
    "                print('Welcome Sir')\n",
    "            else:\n",
    "                print('Thanks you')"
   ]
  },
  {
   "cell_type": "code",
   "execution_count": 41,
   "metadata": {},
   "outputs": [
    {
     "name": "stdin",
     "output_type": "stream",
     "text": [
      "Enter how much you save per month: 3\n"
     ]
    },
    {
     "name": "stdout",
     "output_type": "stream",
     "text": [
      "Well done\n"
     ]
    }
   ],
   "source": [
    "savings = float(input('Enter how much you save per month:'))\n",
    "\n",
    "if savings ==0:\n",
    "    print('Sorry, no savings')\n",
    "elif savings < 500:\n",
    "    print('Well done')\n",
    "elif savings < 1000:\n",
    "    print('Thats a tidy sum')\n",
    "elif savings < 10000:\n",
    "    print('Welcome Sir')\n",
    "else:\n",
    "    print('Thanks you')"
   ]
  },
  {
   "cell_type": "markdown",
   "metadata": {},
   "source": [
    "## Nesting if-statements\n",
    "Nesting `if`-statements means using `if`-statements __within__ `if`-statements. Note that when doing that you need to indent the code twice. "
   ]
  },
  {
   "cell_type": "code",
   "execution_count": 22,
   "metadata": {},
   "outputs": [
    {
     "name": "stdout",
     "output_type": "stream",
     "text": [
      "It's freezing\n",
      "Put on boots\n",
      "Time for chocolate\n",
      "Bye\n"
     ]
    }
   ],
   "source": [
    "snowing = True\n",
    "temp = -1\n",
    "if temp < 0:\n",
    "    print(\"It's freezing\")\n",
    "    if snowing: \n",
    "    \n",
    "        print('Put on boots')\n",
    "    print('Time for chocolate')\n",
    "print('Bye')"
   ]
  },
  {
   "cell_type": "markdown",
   "metadata": {},
   "source": [
    "Recall the logical operators as `and` and `or`; these can be used in a logical operator as well. "
   ]
  },
  {
   "cell_type": "code",
   "execution_count": 21,
   "metadata": {},
   "outputs": [
    {
     "name": "stdout",
     "output_type": "stream",
     "text": [
      "teenager\n"
     ]
    }
   ],
   "source": [
    "age = 15\n",
    "status = None\n",
    "if (age > 12) and (age < 20):\n",
    "    status = 'teenager'\n",
    "else:\n",
    "    status = 'not teenager'\n",
    "print(status)"
   ]
  },
  {
   "cell_type": "markdown",
   "metadata": {},
   "source": [
    "Instead of putting `if` and `else` statements vertically, we can also \"nest\" them horizontally as follows :"
   ]
  },
  {
   "cell_type": "code",
   "execution_count": 2,
   "metadata": {},
   "outputs": [
    {
     "name": "stdout",
     "output_type": "stream",
     "text": [
      "teenager\n",
      "teenager\n"
     ]
    }
   ],
   "source": [
    "age=12\n",
    "status = ('teenager' if age > 12 and age < 20 else 'not teenager')\n",
    "print(status)"
   ]
  },
  {
   "cell_type": "markdown",
   "metadata": {},
   "source": [
    "---\n",
    "---"
   ]
  },
  {
   "cell_type": "markdown",
   "metadata": {},
   "source": [
    "# Exercises on If-Else statements and Comparitive/Logical operations\n",
    "\n",
    "### Exercise 1.1 : Check input polarity   \n",
    "The aim of this exercise is to write a small program to test if an integer is positive or negative.  \n",
    "Your program should:  \n",
    "1. Prompt the user to input a number (use the `input()` function). You can assume that the input will be some sort of number.\n",
    "2. Convert the string into an integer using the `int()` function.\n",
    "3. Now check whether the integer is a positive number or a negative number.\n",
    "4. You could also add a test to see if the number is Zero."
   ]
  },
  {
   "cell_type": "code",
   "execution_count": 34,
   "metadata": {},
   "outputs": [
    {
     "name": "stdin",
     "output_type": "stream",
     "text": [
      "Enter a number :  -2\n"
     ]
    },
    {
     "name": "stdout",
     "output_type": "stream",
     "text": [
      "Input is negative\n"
     ]
    }
   ],
   "source": [
    "user_input = input(\"Enter a number : \")\n",
    "user_input = int(user_input)\n",
    "\n",
    "if user_input>0:\n",
    "    print(\"Input is positive\")\n",
    "elif user_input<0:\n",
    "    print(\"Input is negative\")\n",
    "else: \n",
    "    print(\"Input is zero\")"
   ]
  },
  {
   "cell_type": "markdown",
   "metadata": {},
   "source": [
    "### Exercise 1.2: Check whether a number is odd or even  \n",
    "The exercises requires you to write a program to take input from the user and determine if the number is odd or even. Again you can assume that the user will enter a valid integer number. Print out a message to the user to let them know the result. \n",
    "\n",
    "__Hint:__ use one of the mathematical operators to check whether the input is even or odd. "
   ]
  },
  {
   "cell_type": "code",
   "execution_count": 35,
   "metadata": {},
   "outputs": [
    {
     "name": "stdin",
     "output_type": "stream",
     "text": [
      "Enter a number :  3\n"
     ]
    },
    {
     "name": "stdout",
     "output_type": "stream",
     "text": [
      "input is uneven\n"
     ]
    }
   ],
   "source": [
    "user_input = input(\"Enter a number : \")\n",
    "\n",
    "\n",
    "user_input = int(user_input)\n",
    "\n",
    "if (user_input%2)==0: # Check whether the input is even \n",
    "    print(\"input is even\")\n",
    "else:\n",
    "    print(\"input is uneven\")  \n"
   ]
  },
  {
   "cell_type": "markdown",
   "metadata": {},
   "source": [
    "### Exercise 1.3: Kilometers to mile converter  \n",
    "In this exercise you should return to the kilometres to miles converter you wrote in the last chapter.\n",
    "We will add several new tests to your program:  \n",
    "1. Modify your program such that it verify that the user has entered a positive distance (i.e. they cannot enter a negative number).\n",
    "2. Now modify your program to verify that the input is a number; if it is not a number then do nothing; otherwise convert the distance to miles.  \n",
    "\n",
    "__Hint:__ Last week's `String` methods also mentioned the `.isnumeric()` method. We can use this method to check whether a `String` only contains numerical characters. Use it as follows: `'42'.isnumeric()`. \n",
    "\n",
    "__Note:__ The `.isnumeric()` method returns also `False` when entering a negative number as a `String`. E.g. `\"-2\".isnumeric()` returns thus a `False`. "
   ]
  },
  {
   "cell_type": "code",
   "execution_count": 13,
   "metadata": {},
   "outputs": [
    {
     "name": "stdin",
     "output_type": "stream",
     "text": [
      "Enter a number in km :  -3\n"
     ]
    },
    {
     "name": "stdout",
     "output_type": "stream",
     "text": [
      "Enter a postive number\n"
     ]
    }
   ],
   "source": [
    "user_input = input(\"Enter a number in km : \") # user input in String\n",
    "if user_input.isnumeric(): # Check if input is numeric or positive: isnumeric returns false for letters and negatives\n",
    "    user_input = int(user_input) # change data type to integers and save to user_input\n",
    "    print(user_input,\" kilometres equals \",user_input*0.66,\" miles\") # print the original and conversion\n",
    "else:\n",
    "    print(\"Enter a postive number\") # print your self-made error message "
   ]
  },
  {
   "cell_type": "markdown",
   "metadata": {},
   "source": [
    "<br>"
   ]
  },
  {
   "cell_type": "markdown",
   "metadata": {},
   "source": [
    "# Iterations / Loops\n",
    "\n"
   ]
  },
  {
   "cell_type": "markdown",
   "metadata": {},
   "source": [
    "In Python we can use two kinds of loops: `for` loops and `while` loops. Although all logic applies to them in a similar way, their initiation logic differs.\n",
    "\n",
    "### For Loops\n",
    "\n",
    "The `for` loop's initiation logic is that it 'walks' through a list till it has finished. A disected example is: "
   ]
  },
  {
   "cell_type": "code",
   "execution_count": 23,
   "metadata": {},
   "outputs": [
    {
     "name": "stdout",
     "output_type": "stream",
     "text": [
      "1\n",
      "2\n",
      "3\n"
     ]
    }
   ],
   "source": [
    "my_list = [1,2,3]\n",
    "\n",
    "for i in my_list:\n",
    "    print(i)"
   ]
  },
  {
   "cell_type": "code",
   "execution_count": 26,
   "metadata": {},
   "outputs": [
    {
     "name": "stdout",
     "output_type": "stream",
     "text": [
      "2\n",
      "4\n",
      "6\n",
      "8\n"
     ]
    }
   ],
   "source": [
    "for i in range(2,10,2):\n",
    "    print(i)"
   ]
  },
  {
   "cell_type": "markdown",
   "metadata": {},
   "source": [
    "A quick way to construct a list is the `range(k,l,m)` statement, with `k` and `l` being the starting value and the end value, respectively. `m` represents the step size. More simply, if you want to do something 10 times, simply make a list with 10 values by typing `range(10)`. So, we get:"
   ]
  },
  {
   "cell_type": "code",
   "execution_count": 56,
   "metadata": {},
   "outputs": [
    {
     "name": "stdout",
     "output_type": "stream",
     "text": [
      "2\n",
      "4\n",
      "6\n",
      "8\n",
      "\n",
      "\n",
      "0\n",
      "1\n",
      "2\n",
      "3\n",
      "4\n",
      "5\n",
      "6\n",
      "7\n",
      "8\n",
      "9\n"
     ]
    }
   ],
   "source": [
    "for i in range(2,10,2):\n",
    "    print(i)\n",
    "    \n",
    "# and more simply:\n",
    "print(\"\\n\")\n",
    "\n",
    "for i in range(10):\n",
    "    print(i)"
   ]
  },
  {
   "cell_type": "markdown",
   "metadata": {},
   "source": [
    "### Continue and Break loop\n",
    "The `continue` and `break` statements influence how the Loop is being executed. That is, the former lets the loop recommence whereas the latter stops the loop altogether. "
   ]
  },
  {
   "cell_type": "code",
   "execution_count": null,
   "metadata": {},
   "outputs": [
    {
     "name": "stdout",
     "output_type": "stream",
     "text": [
      "Print out values in a range\n",
      "0\n",
      "1\n"
     ]
    }
   ],
   "source": [
    "# Loop over a set of values in a range\n",
    "print('Print out values in a range')\n",
    "for i in range(0, 10):\n",
    "    if (i>5): \n",
    "        print(\"That's enough\")\n",
    "        break\n",
    "    print(i)\n",
    "    \n",
    "print(\"loop ended\")"
   ]
  },
  {
   "cell_type": "code",
   "execution_count": 60,
   "metadata": {},
   "outputs": [
    {
     "name": "stdout",
     "output_type": "stream",
     "text": [
      "Print out values in a range\n",
      "0\n",
      "1\n",
      "2\n",
      "3\n",
      "4\n",
      "5\n",
      "That's enough\n",
      "That's enough\n",
      "That's enough\n",
      "That's enough\n"
     ]
    }
   ],
   "source": [
    "# Loop over a set of values in a range\n",
    "print('Print out values in a range')\n",
    "for i in range(0, 10):\n",
    "    if (i>5): \n",
    "        print(\"That's enough\")\n",
    "        continue\n",
    "    print(i) # This part is skipped by the continue statement"
   ]
  },
  {
   "cell_type": "markdown",
   "metadata": {},
   "source": [
    "### While loop\n",
    "The other loop logic we can use in Python is the so-called `while` loop. Due to its different initiation logic, it runs infinitely _unless_ one tells it not to. This stands in stark contrast to the `for` loop, where we define a set of values it runs through. This difference makes the `while` loop trickier to use. \n",
    "\n",
    "To start with a `while` loop, we define a variable to check. In this case a number we want to sum till reaching a certain value. "
   ]
  },
  {
   "cell_type": "code",
   "execution_count": 27,
   "metadata": {},
   "outputs": [
    {
     "name": "stdout",
     "output_type": "stream",
     "text": [
      "0\n",
      "1\n",
      "2\n",
      "3\n",
      "4\n",
      "ended\n"
     ]
    }
   ],
   "source": [
    "a = 0\n",
    "while (a<5): # while a is smaller than 8\n",
    "    print(a)\n",
    "    a+=1 # we sum a with one (same as a=a+1)\n",
    "    \n",
    "print(\"ended\")"
   ]
  },
  {
   "cell_type": "markdown",
   "metadata": {},
   "source": [
    "__Be careful__: With the `while` loop it is easily possible to be stuck in an infinite loop, for example by making a small typo. If that happens, just click Kernel and Restart kernel. Uncomment the code below to be stuck in an infinite loop. "
   ]
  },
  {
   "cell_type": "code",
   "execution_count": 1,
   "metadata": {},
   "outputs": [],
   "source": [
    "# a=0\n",
    "# b=0\n",
    "# while (a<5): # while a is smaller than 8\n",
    "#     print(a)\n",
    "#     b+=1 # we sum b with one (same as a=a+1) NOTE: how the checked variable is not summed now. "
   ]
  },
  {
   "cell_type": "markdown",
   "metadata": {},
   "source": [
    "<br>\n",
    "\n",
    "# Exercises on Loops\n",
    "\n",
    "## Exercise 2.1 Dice Game"
   ]
  },
  {
   "cell_type": "markdown",
   "metadata": {},
   "source": [
    " In this game we will continue to roll a pair of dice until the user indicates that they do not want to roll again (we use the\n",
    "random module for this which is discussed in the next chapter). When this occurs the while loop will terminate:\n",
    "\n",
    "__Hint__: To draw a random number, you can use the `random` library. More info [here](https://docs.python.org/3/library/random.html). Recall how you import a library, using `import random`. Once imported, the random number is drawn using the `randint()` __method__. The actual number is then drawn using LibraryName.MethodName() = `random.randint()`"
   ]
  },
  {
   "cell_type": "code",
   "execution_count": 2,
   "metadata": {},
   "outputs": [
    {
     "name": "stdin",
     "output_type": "stream",
     "text": [
      "you want to play a game? yes\n"
     ]
    },
    {
     "name": "stdout",
     "output_type": "stream",
     "text": [
      "dice is thrown, number is  4\n"
     ]
    },
    {
     "name": "stdin",
     "output_type": "stream",
     "text": [
      "You want to continue? yes\n"
     ]
    },
    {
     "name": "stdout",
     "output_type": "stream",
     "text": [
      "dice is thrown, number is  2\n"
     ]
    },
    {
     "name": "stdin",
     "output_type": "stream",
     "text": [
      "You want to continue? z\n"
     ]
    },
    {
     "name": "stdout",
     "output_type": "stream",
     "text": [
      "Game ended\n"
     ]
    }
   ],
   "source": [
    "import random\n",
    "\n",
    "user_input = input(\"you want to play a game?\")\n",
    "while user_input == 'yes':\n",
    "    print(\"dice is thrown, number is \",random.randint(1,6))\n",
    "    \n",
    "    user_input = input(\"You want to continue?\")\n",
    "    \n",
    "print(\"Game ended\")"
   ]
  },
  {
   "cell_type": "markdown",
   "metadata": {},
   "source": [
    "## Exercise 2.2: Calculate the factorial of a number   \n",
    "Write a program that can find the factorial of any given number. For example, find the factorial of the number 5 (often written as 5!) which is 1 * 2 * 3 * 4 * 5 and equals 120.  \n",
    "The factorial is not defined for negative numbers and the factorial of Zero is 1; that is 0! = 1.  \n",
    "Your program should take as input an integer from the user (you can re-use your logic from the last chapter to verify that they have entered a positive integer value using the Python String method `.isnumeric()`).\n",
    "You should\n",
    "1. If the number is less than Zero return with an error message.\n",
    "2. Check to see if the number is Zero—if it is then the answer is 1—print this out.\n",
    "3. Otherwise use a loop to generate the result and print it out."
   ]
  },
  {
   "cell_type": "code",
   "execution_count": 1,
   "metadata": {},
   "outputs": [
    {
     "name": "stdin",
     "output_type": "stream",
     "text": [
      "Enter a positive number :  4\n"
     ]
    },
    {
     "name": "stdout",
     "output_type": "stream",
     "text": [
      "24\n"
     ]
    }
   ],
   "source": [
    "user_input = input(\"Enter a positive number : \")\n",
    "\n",
    "if user_input.isnumeric():\n",
    "    \n",
    "\n",
    "    factorial = 1\n",
    "    \n",
    "    for i in range(1,int(user_input)+1):\n",
    "        \n",
    "        factorial = factorial * i\n",
    "        \n",
    "    print(factorial)\n",
    "        \n",
    "else:\n",
    "    print(\"Give a poitive number\")"
   ]
  },
  {
   "cell_type": "code",
   "execution_count": 5,
   "metadata": {},
   "outputs": [
    {
     "name": "stdout",
     "output_type": "stream",
     "text": [
      "1\n"
     ]
    }
   ],
   "source": [
    "for i in range(1,2):\n",
    "    print(i)"
   ]
  },
  {
   "cell_type": "markdown",
   "metadata": {},
   "source": [
    "## Exercise 2.3 Print all the prime numbers in a range:  \n",
    "A Prime Number is a positive whole number, greater than 1, that has no other divisors except the number 1 and the number itself.\n",
    "That is, it can only be divided by itself and the number 1, for example the numbers 2, 3, 5 and 7 are prime numbers as they cannot be divided by any other whole number. The numbers 4 and 6 are not because they can both be divided by the number 2. In addition, the number 6 can also be divided by the number 3.  \n",
    "\n",
    "You should write a program to calculate prime number starting from 1 up to the value input by the user. If the user inputs a number below 2, print an error message. For any number greater than 2, loop for each integer from 2 to that number and determine if it can be divided by another number (you will probably need two for loops for this; one nested inside the other).  \n",
    "For each number that cannot be divided by any other number (that is its a prime number) print it out.\n",
    "\n",
    "__Hint:__ Make use of the `range(k,l,m)` function to generate a list of numbers and make use of the `%` operator to check whether a number can be divided. "
   ]
  },
  {
   "cell_type": "code",
   "execution_count": 3,
   "metadata": {},
   "outputs": [
    {
     "name": "stdin",
     "output_type": "stream",
     "text": [
      "Enter a positive number: 3\n"
     ]
    },
    {
     "name": "stdout",
     "output_type": "stream",
     "text": [
      "1\n",
      "2\n",
      "3\n"
     ]
    }
   ],
   "source": [
    "# Checking whether a number is a prime number\n",
    "\n",
    "input_number = input(\"Enter a positive number:\")\n",
    "if input_number.isnumeric():\n",
    "    \n",
    "    input_number=int(input_number)\n",
    "\n",
    "    for i in range(1,input_number+1):\n",
    "\n",
    "        prime_number = i\n",
    "        prime_test=True\n",
    "        for j in range(2,prime_number):\n",
    "            if (prime_number%j)==0:\n",
    "                prime_test = False\n",
    "            else:\n",
    "                continue\n",
    "\n",
    "        if prime_test:\n",
    "            print(prime_number)"
   ]
  },
  {
   "cell_type": "code",
   "execution_count": 4,
   "metadata": {},
   "outputs": [
    {
     "name": "stdin",
     "output_type": "stream",
     "text": [
      "Enter a positive number: 5\n"
     ]
    },
    {
     "name": "stdout",
     "output_type": "stream",
     "text": [
      "1\n",
      "2\n",
      "3\n",
      "5\n"
     ]
    }
   ],
   "source": [
    "def PrimeTester(prime_number):\n",
    "    \n",
    "    prime_test=True\n",
    "    for j in range(2,prime_number):\n",
    "        if (prime_number%j)==0:\n",
    "            prime_test = False\n",
    "        else:\n",
    "            continue\n",
    "            \n",
    "    return prime_test\n",
    "\n",
    "\n",
    "input_number = input(\"Enter a positive number:\")\n",
    "if input_number.isnumeric():\n",
    "    \n",
    "    input_number=int(input_number)\n",
    "\n",
    "    for i in range(1,input_number+1):\n",
    "\n",
    "        if PrimeTester(i):\n",
    "            print(i)"
   ]
  },
  {
   "cell_type": "markdown",
   "metadata": {},
   "source": [
    "## Exercise 2.4: Number Guessing Game"
   ]
  },
  {
   "cell_type": "markdown",
   "metadata": {},
   "source": [
    "Write a program that asks a user for a guess till they guess correctly. The programme logic follows the following  steps: \n",
    "\n",
    "• The program randomly selects a number between 1 and 10.  \n",
    "• It will then ask the player to enter their guess.  \n",
    "• It will then check to see if that number is the same as the one the computer randomly generated; if it is then the player has won.  \n",
    "• If the player’s guess is not the same, then it will check to see if the number is higher or lower than the guess and tell the player.  \n",
    "• The player will have 4 goes to guess the number correctly; if they don’t guess the number within this number of attempts, then they will be informed that they have lost the game and will be told what the actual number was.  "
   ]
  },
  {
   "cell_type": "code",
   "execution_count": 5,
   "metadata": {},
   "outputs": [
    {
     "name": "stdin",
     "output_type": "stream",
     "text": [
      "Guess the number 3\n"
     ]
    },
    {
     "name": "stdout",
     "output_type": "stream",
     "text": [
      "4\n",
      "guess wrongly\n"
     ]
    },
    {
     "name": "stdin",
     "output_type": "stream",
     "text": [
      "Guess the number 2\n"
     ]
    },
    {
     "name": "stdout",
     "output_type": "stream",
     "text": [
      "4\n",
      "guess wrongly\n"
     ]
    },
    {
     "name": "stdin",
     "output_type": "stream",
     "text": [
      "Guess the number 4\n"
     ]
    },
    {
     "name": "stdout",
     "output_type": "stream",
     "text": [
      "4\n",
      "guessed correctly\n"
     ]
    }
   ],
   "source": [
    "import random\n",
    "computer_guess = random.randint(1,10)\n",
    "\n",
    "for i in range(4):\n",
    "    \n",
    "    user_input = input(\"Guess the number\")\n",
    "    print(computer_guess)\n",
    "    if int(user_input)==computer_guess:\n",
    "        print(\"guessed correctly\")\n",
    "        break\n",
    "    elif i==3:\n",
    "        print(\"Game over\")\n",
    "    else:\n",
    "        print(\"guess wrongly\")"
   ]
  },
  {
   "cell_type": "markdown",
   "metadata": {},
   "source": [
    "### Additional Exercises"
   ]
  },
  {
   "cell_type": "markdown",
   "metadata": {},
   "source": [
    "__Ex1:__ Write a program that reads an integer from the user. Then your program should\n",
    "display a message indicating whether the integer is even or odd"
   ]
  },
  {
   "cell_type": "code",
   "execution_count": 6,
   "metadata": {},
   "outputs": [
    {
     "name": "stdin",
     "output_type": "stream",
     "text": [
      "Enter an integer :  3\n"
     ]
    },
    {
     "name": "stdout",
     "output_type": "stream",
     "text": [
      "Number is odd\n"
     ]
    }
   ],
   "source": [
    "user_input = int(input(\"Enter an integer : \"))\n",
    "if (user_input%2)==0:\n",
    "    print(\"Number is even\")\n",
    "else:\n",
    "    print(\"Number is odd\")"
   ]
  },
  {
   "cell_type": "markdown",
   "metadata": {},
   "source": [
    "__Ex2:__ In this exercise you will create a program that reads a letter of the alphabet from the\n",
    "user. If the user enters a, e, i, o or u then your program should display a message\n",
    "indicating that the entered letter is a vowel. If the user enters y then your program\n",
    "should display a message indicating that sometimes y is a vowel, and sometimes y is\n",
    "a consonant. Otherwise your program should display a message indicating that the\n",
    "letter is a consonant."
   ]
  },
  {
   "cell_type": "code",
   "execution_count": 8,
   "metadata": {},
   "outputs": [
    {
     "name": "stdin",
     "output_type": "stream",
     "text": [
      "Enter a letter t\n"
     ]
    },
    {
     "name": "stdout",
     "output_type": "stream",
     "text": [
      "Letter is not a vowel\n"
     ]
    }
   ],
   "source": [
    "\"\"\"\n",
    "Essential to solving this exercise is the \"in\" command, which checks whether a value exists in a list. For example, 1 in [1,2] returns True. \n",
    "\"\"\"\n",
    "\n",
    "vowels = ['a','e','i','o','u']\n",
    "\n",
    "user_input = input(\"Enter a letter\")\n",
    "\n",
    "if user_input in vowels:\n",
    "    print(\"Letter is a vowel\")\n",
    "else:\n",
    "    print(\"Letter is not a vowel\")"
   ]
  },
  {
   "cell_type": "markdown",
   "metadata": {},
   "source": [
    "__Ex3:__ Most years have 365 days. However, the time required for the Earth to orbit the Sun\n",
    "is actually slightly more than that. As a result, an extra day, February 29, is included\n",
    "in some years to correct for this difference. Such years are referred to as leap years.  \n",
    "The rules for determining whether or not a year is a leap year follow:  \n",
    "• Any year that is divisible by 400 is a leap year.  \n",
    "• Of the remaining years, any year that is divisible by 100 is not a leap year.  \n",
    "• Of the remaining years, any year that is divisible by 4 is a leap year.  \n",
    "• All other years are not leap years.  \n",
    "Write a program that reads a year from the user and displays a message indicating\n",
    "whether or not it is a leap year."
   ]
  },
  {
   "cell_type": "code",
   "execution_count": 10,
   "metadata": {},
   "outputs": [
    {
     "name": "stdin",
     "output_type": "stream",
     "text": [
      "Enter a year 2004\n"
     ]
    },
    {
     "name": "stdout",
     "output_type": "stream",
     "text": [
      "2004  was a leap year\n"
     ]
    }
   ],
   "source": [
    "year = int(input(\"Enter a year\"))\n",
    "\n",
    "lap_year = None\n",
    "\n",
    "if (year%400)==0:\n",
    "    lap_year=True\n",
    "elif (year%100)==0:\n",
    "    lap_year=False\n",
    "elif (year%4)==0:\n",
    "    lap_year=True\n",
    "else:\n",
    "    lap_year=False\n",
    "\n",
    "if lap_year:\n",
    "    print(year,\" was a leap year\")\n",
    "else:\n",
    "    print(year,\" was not a leap year\")\n"
   ]
  },
  {
   "cell_type": "markdown",
   "metadata": {},
   "source": [
    "__Ex4:__ In a particular jurisdiction, older license plates consist of three uppercase letters followed by three numbers. When all of the license plates following that pattern had been used, the format was changed to four numbers followed by three uppercase\n",
    "letters.  \n",
    "Write a program that begins by reading a string of characters from the user. Then your program should display a message indicating whether the characters are valid for an older style license plate or a newer style license plate. Your program should display an appropriate message if the string entered by the user is not valid for either style of license plate."
   ]
  },
  {
   "cell_type": "code",
   "execution_count": null,
   "metadata": {},
   "outputs": [],
   "source": [
    "user_input = input(\"Enter a license plate\")\n",
    "\n",
    "# First check: 7 characters\n",
    "\n",
    "if len(user_input) == 6:\n",
    "        \n",
    "    for c in user_input[:3]:\n",
    "        first_part = not c.isnumeric()\n",
    "    \n",
    "    second_part = user_input[3:].isnumeric()\n",
    "    \n",
    "    if first_part and second_part:\n",
    "        print(\"Valid for the old one\")\n",
    "    else:\n",
    "        print(\"Invalid\")\n",
    "\n",
    "elif len(user_input) == 7:\n",
    "    \n",
    "    for c in user_input[3:]:\n",
    "        second_part = not c.isnumeric()\n",
    "    \n",
    "    first_part = user_input[:4].isnumeric()\n",
    "    \n",
    "    if first_part and second_part:\n",
    "        print(\"Valid for the new one\")\n",
    "    else:\n",
    "        print(\"Invalid\")\n",
    "\n",
    "else:\n",
    "    print(\"invalid\")"
   ]
  },
  {
   "cell_type": "markdown",
   "metadata": {},
   "source": [
    "__Ex5:__ February 4, 2013 was the last day that pennies were distributed by the Royal Canadian Mint. Now that pennies have been phased out retailers must adjust totals so that they are multiples of 5 cents when they are paid for with cash (credit card and debit card transactions continue to be charged to the penny). While retailers have some freedom in how they do this, most choose to round to the closest nickel.  \n",
    "Write a program that reads prices from the user until a blank line is entered. Display the total cost of all the entered items on one line, followed by the amount due if the customer pays with cash on a second line. The amount due for a cash payment should be rounded to the nearest nickel. One way to compute the cash payment amount is to begin by determining how many pennies would be needed to pay the total. Then compute the remainder when this number of pennies is divided by 5. Finally, adjust the total down if the remainder is less than 2.5. Otherwise adjust the total up."
   ]
  },
  {
   "cell_type": "code",
   "execution_count": 28,
   "metadata": {},
   "outputs": [
    {
     "name": "stdin",
     "output_type": "stream",
     "text": [
      "Enter a price 22,32\n"
     ]
    },
    {
     "name": "stdout",
     "output_type": "stream",
     "text": [
      "The new price is :  22 , 30\n"
     ]
    }
   ],
   "source": [
    "user_input = input(\"Enter a price\")\n",
    "\n",
    "wholes = int(user_input.split(',')[0])\n",
    "pennies = int(user_input.split(',')[1])\n",
    "\n",
    "remainder = pennies%5\n",
    "if remainder>2.5:\n",
    "    pennies = pennies + (5-remainder)\n",
    "else:\n",
    "    pennies = pennies - remainder\n",
    "    \n",
    "print(\"The new price is : \",wholes,',',pennies)"
   ]
  },
  {
   "cell_type": "markdown",
   "metadata": {},
   "source": [
    "__Ex6:__ Write a program that computes the perimeter of a polygon. Begin by reading the x and y values for the first point on the perimeter of the polygon from the user. Then continue reading pairs of x and y values until the user enters a blank line for the x-coordinate. Each time you read an additional coordinate you should compute the distance to the previous point and add it to the perimeter. When a blank line is entered for the x-coordinate your program should add the distance from the last point back\n",
    "to the first point to the perimeter. Then it should display the total perimeter. Sample input and output is shown below, with user input shown in bold:  \n",
    "\n",
    "_Enter the x part of the coordinate: 0  \n",
    "Enter the y part of the coordinate: 0  \n",
    "Enter the x part of the coordinate: (blank to quit): 1  \n",
    "Enter the y part of the coordinate: 0  \n",
    "Enter the x part of the coordinate: (blank to quit): 0  \n",
    "Enter the y part of the coordinate: 1  \n",
    "Enter the x part of the coordinate: (blank to quit):  \n",
    "The perimeter of that polygon is 3.414213562373095_"
   ]
  },
  {
   "cell_type": "code",
   "execution_count": 31,
   "metadata": {},
   "outputs": [
    {
     "name": "stdin",
     "output_type": "stream",
     "text": [
      "Enter x 3\n",
      "Enter y 4\n",
      "Enter x 2\n",
      "Enter y 4\n",
      "Enter x 6\n",
      "Enter y 4\n",
      "Enter x  \n"
     ]
    },
    {
     "name": "stdout",
     "output_type": "stream",
     "text": [
      "perimeter is  7.211102550927978\n"
     ]
    }
   ],
   "source": [
    "\n",
    "go = True\n",
    "perimeter = 0\n",
    "\n",
    "while go:\n",
    "    \n",
    "    user_x = input(\"Enter x\")\n",
    "    \n",
    "    if user_x == ' ':\n",
    "        go=False\n",
    "        print(\"perimeter is \",perimeter)\n",
    "        continue\n",
    "    \n",
    "    \n",
    "    user_y = input(\"Enter y\") \n",
    "    \n",
    "    \n",
    "    perimeter = ( float(user_x)**2 + float(user_y)**2 ) **0.5"
   ]
  },
  {
   "cell_type": "markdown",
   "metadata": {},
   "source": [
    "__Ex7:__ A particular zoo determines the price of admission based on the age of the guest. Guests 2 years of age and less are admitted without charge. Children between 3 and 12 years of age cost 14.00 dollars. Seniors aged 65 years and over cost 18.00 dollars. Admission for all other guests is 23.00 dollars.  \n",
    "Create a program that begins by reading the ages of all of the guests in a group from the user, with one age entered on each line. The user will enter a blank line to indicate that there are no more guests in the group. Then your program should display\n",
    "the admission cost for the group with an appropriate message. The cost should be displayed using two decimal places."
   ]
  },
  {
   "cell_type": "code",
   "execution_count": 36,
   "metadata": {},
   "outputs": [
    {
     "name": "stdin",
     "output_type": "stream",
     "text": [
      "Enter the ages of the group divided by a blank 33 4 2 44\n"
     ]
    },
    {
     "name": "stdout",
     "output_type": "stream",
     "text": [
      "The total group price is  60\n"
     ]
    }
   ],
   "source": [
    "def DeterminePrice(age):\n",
    "    price = None\n",
    "    if age<=2:\n",
    "        price = 0\n",
    "    elif age>2 and age<12:\n",
    "        price=14\n",
    "    elif age>=65: \n",
    "        price=18\n",
    "    else:\n",
    "        price = 23\n",
    "    return price\n",
    "\n",
    "user_input = input(\"Enter the ages of the group divided by a blank\")\n",
    "\n",
    "user_input_split = user_input.split(' ')\n",
    "\n",
    "summed_amount = 0\n",
    "\n",
    "for one_age in user_input_split:\n",
    "    summed_amount += DeterminePrice(int(one_age))\n",
    "\n",
    "print(\"The total group price is \",summed_amount)\n"
   ]
  },
  {
   "cell_type": "markdown",
   "metadata": {},
   "source": [
    "__Ex8:__ A parity bit is a simple mechanism for detecting errors in data transmitted over an unreliable connection such as a telephone line. The basic idea is that an additional bit is transmitted after each group of 8 bits so that a single bit error in the transmission can be detected.  \n",
    "Parity bits can be computed for either even parity or odd parity. If even parity is selected then the parity bit that is transmitted is chosen so that the total number of one bits transmitted (8 bits of data plus the parity bit) is even. When odd parity is selected the parity bit is chosen so that the total number of one bits transmitted is odd.  \n",
    "Write a program that computes the parity bit for groups of 8 bits entered by the user using even parity. Your program should read strings containing 8 bits until the user enters a blank line. After each string is entered by the user your program should display a clear message indicating whether the parity bit should be 0 or 1. Display an appropriate error message if the user enters something other than 8 bits."
   ]
  },
  {
   "cell_type": "code",
   "execution_count": 43,
   "metadata": {},
   "outputs": [
    {
     "name": "stdin",
     "output_type": "stream",
     "text": [
      "Enter 8 bit divided by blank 10011001 10011001\n"
     ]
    },
    {
     "name": "stdout",
     "output_type": "stream",
     "text": [
      "Even parity\n",
      "Even parity\n"
     ]
    }
   ],
   "source": [
    "user_input = input(\"Enter 8 bit divided by blank\")\n",
    "\n",
    "user_input_split = user_input.split(\" \")\n",
    "\n",
    "for eight_bit in user_input_split:\n",
    "    if len(eight_bit) != 8:\n",
    "        print(\"Error in bitlength\")\n",
    "        break\n",
    "    else:\n",
    "        \n",
    "        summed_bits = 0\n",
    "        for bit in eight_bit:\n",
    "            summed_bits+=int(bit)\n",
    "            \n",
    "        if summed_bits%2==0:\n",
    "            print(\"Even parity\")\n",
    "        else: \n",
    "            print(\"Odd parity\")            "
   ]
  },
  {
   "cell_type": "markdown",
   "metadata": {},
   "source": [
    "## Extra info\n",
    "\n",
    "__Info on using a random number__  \n",
    "We will start off by looking at how we can generate a random number. Up to this point we have only used the built-in functions that are provided by Python automatically. In actual fact Python comes with very many modules provided by the Python organisation itself, by third party vendors and by the open source (typically free) software community.  \n",
    "The Python random module or library is one that is provided with Python as part of the default environment; but the functions within it are not automatically loaded or made available to the programmer. This is partly because there are so many facilities available with Python that it could become overwhelming; so for the most part Python only makes available by default the most commonly used facilities. Programmers can then explicitly specify when they want to use some facilities from one of the other libraries or modules.  \n",
    "The random module provides implementations of pseudo-random number generators for use in application programs. These random number generators are referred to as pseudo because it is very hard for a computer to truly generate a series of random numbers; instead it does its best to mimic this using an algorithm; which by its very nature will be based on some logic which will mean that it is not\n",
    "impossible to predict the next number—hence it is not truly random. For our purposes this is fine but there are applications, such as security and encryption, where this can be a real problem.  \n",
    "To access the random module in Python you need to import it; this makes the module visible in the rest of the Python file (in our case to our program). "
   ]
  },
  {
   "cell_type": "code",
   "execution_count": null,
   "metadata": {},
   "outputs": [],
   "source": []
  }
 ],
 "metadata": {
  "kernelspec": {
   "display_name": "Python 3 (ipykernel)",
   "language": "python",
   "name": "python3"
  },
  "language_info": {
   "codemirror_mode": {
    "name": "ipython",
    "version": 3
   },
   "file_extension": ".py",
   "mimetype": "text/x-python",
   "name": "python",
   "nbconvert_exporter": "python",
   "pygments_lexer": "ipython3",
   "version": "3.9.12"
  }
 },
 "nbformat": 4,
 "nbformat_minor": 4
}
