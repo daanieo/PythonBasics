{
 "cells": [
  {
   "cell_type": "markdown",
   "metadata": {},
   "source": [
    "\n",
    "![SVG from www](https://upload.wikimedia.org/wikipedia/commons/thumb/a/a2/Kühne_Logistics_University_logo_2019.svg/100px-Kühne_Logistics_University_logo_2019.svg.png)  \n",
    "# Python Basics course September 2022  \n",
    "### Kuehne Logistics University  "
   ]
  },
  {
   "cell_type": "markdown",
   "metadata": {},
   "source": [
    "## __Session 2: Datatypes (dtypes)__"
   ]
  },
  {
   "cell_type": "markdown",
   "metadata": {},
   "source": [
    "Session 2 introduces the various types of data Python uses. Part I introduces Python Strings (corresponding to the Chapter 4 of the book). Part II introduces the other datatypes and conversions/operations thereof: integers, floating point numbers, booleans and NoneType (corresponding to Chapter 5 of the book). \n",
    "\n",
    "![](Figures/dtypes.png)\n",
    "\n",
    "### Converting datatypes"
   ]
  },
  {
   "cell_type": "code",
   "execution_count": 33,
   "metadata": {},
   "outputs": [
    {
     "name": "stdout",
     "output_type": "stream",
     "text": [
      "Converts a string to an integer :  1 1\n",
      "Converts a string into a floating point number :  100.0\n",
      "Converts a floating point or integer into a string :  100\n"
     ]
    }
   ],
   "source": [
    "print(\"Converts a string to an integer : \",'1',int('1'))\n",
    "\n",
    "print(\"Converts a string into a floating point number : \",float('100'))\n",
    "print(\"Converts a floating point or integer into a string : \",str(100))"
   ]
  },
  {
   "cell_type": "code",
   "execution_count": 34,
   "metadata": {},
   "outputs": [
    {
     "name": "stdout",
     "output_type": "stream",
     "text": [
      "Type is  <class 'str'>\n"
     ]
    }
   ],
   "source": [
    "# Checking the type of data you can use \"type()\"\n",
    "print(\"Type is \",type('hello'))"
   ]
  },
  {
   "cell_type": "markdown",
   "metadata": {},
   "source": [
    "# Chapter 4: Python Strings"
   ]
  },
  {
   "cell_type": "markdown",
   "metadata": {},
   "source": [
    "In this chapter we will explore what a string is and how you can work with\n",
    "and manipulate them."
   ]
  },
  {
   "cell_type": "markdown",
   "metadata": {},
   "source": [
    "<br>"
   ]
  },
  {
   "cell_type": "markdown",
   "metadata": {},
   "source": [
    "### What are Python Strings?\n",
    "\n",
    "Essentially, a string is a set of characters in an ordered sequence. Characters are the textual interpretation of data. This for example shows in a difference between: "
   ]
  },
  {
   "cell_type": "code",
   "execution_count": 12,
   "metadata": {},
   "outputs": [
    {
     "name": "stdout",
     "output_type": "stream",
     "text": [
      "Two times text : 22\n",
      "Two times numbers :  4\n"
     ]
    }
   ],
   "source": [
    "print('Two times text :', 2*'2')\n",
    "print('Two times numbers : ',2*2)"
   ]
  },
  {
   "cell_type": "markdown",
   "metadata": {},
   "source": [
    "When putting a (also a single) character between apostrophes `'c'`, Python automatically recognises it and interprets the input as a Python String. The characters are then put in a so-called `list`. Seperate items can be accessed by the use of the so-called __index__. Indeces count either from the start or the end of the list. More examples on the variations how to use the index are below.\n",
    "\n",
    "The length of a list can be retrieved by using the function `len(list)`\n",
    "\n",
    "More information on Python Lists can be found [here](https://www.w3schools.com/python/python_lists.asp)\n",
    "\n",
    "![](Figures/hello.png)"
   ]
  },
  {
   "cell_type": "code",
   "execution_count": 32,
   "metadata": {},
   "outputs": [
    {
     "name": "stdout",
     "output_type": "stream",
     "text": [
      "Length is  5\n",
      "the 5th from the end : h\n",
      "the 1st from the start : h\n"
     ]
    }
   ],
   "source": [
    "string = 'hello'\n",
    "print(\"Length is \",len(string))\n",
    "print(\"the 5th from the end :\",string[-5])\n",
    "print(\"the 1st from the start :\",string[0])"
   ]
  },
  {
   "cell_type": "markdown",
   "metadata": {},
   "source": [
    "Besides the textual information that the String contains, the String datatype also contains a lot of other functionality. The following functionality is built-in :"
   ]
  },
  {
   "cell_type": "markdown",
   "metadata": {},
   "source": [
    "- `s.lower()`, `s.upper()` -- returns the lowercase or uppercase version of the string\n",
    "- `s.strip()` -- returns a string with whitespace removed from the start and end\n",
    "- `s.isalpha()`/`s.isdigit()`/`s.isspace()`... -- tests if all the string chars are in the various character classes\n",
    "- `s.startswith('other')`, `s.endswith('other')` -- tests if the string starts or ends with the given other string\n",
    "- `s.find('other')` -- searches for the given other string (not a regular expression) within s, and returns the first index where it begins or -1 if not found\n",
    "- `s.replace('old', 'new')` -- returns a string where all occurrences of 'old' have been replaced by 'new'\n",
    "- `s.split('delim')` -- returns a list of substrings separated by the given delimiter. The delimiter is not a regular expression, it's just text. -\n",
    "\n",
    "- `'aaa,bbb,ccc'.split(',')` -> `['aaa', 'bbb', 'ccc']`. As a convenient special case s.split() (with no arguments) splits on all whitespace chars.\n",
    "- `s.join(list)` -- opposite of split(), joins the elements in the given list together using the string as the delimiter. e.g. '---'.join(['aaa', 'bbb', 'ccc']) -> aaa---bbb---ccc\n"
   ]
  },
  {
   "cell_type": "markdown",
   "metadata": {},
   "source": [
    "Now try to note how this functionality is accessed. Layered functionality is accessed by typing the variable's name followed by `.` and then the functionality's name. The logic behind this can further found in Chapter 18 on Python Classes. "
   ]
  },
  {
   "cell_type": "markdown",
   "metadata": {},
   "source": [
    "***\n",
    "### Examples\n",
    "Let's try some single strings first"
   ]
  },
  {
   "cell_type": "code",
   "execution_count": null,
   "metadata": {},
   "outputs": [],
   "source": [
    "'Hello World'"
   ]
  },
  {
   "cell_type": "code",
   "execution_count": null,
   "metadata": {},
   "outputs": [],
   "source": [
    "# I am a comment"
   ]
  },
  {
   "cell_type": "code",
   "execution_count": null,
   "metadata": {},
   "outputs": [],
   "source": [
    "'Hi again' # you cant see me"
   ]
  },
  {
   "cell_type": "code",
   "execution_count": null,
   "metadata": {},
   "outputs": [],
   "source": [
    "'abc123![.,.,.,]'"
   ]
  },
  {
   "cell_type": "markdown",
   "metadata": {},
   "source": [
    "***\n",
    "You can print multiple lines by using the print() command:"
   ]
  },
  {
   "cell_type": "code",
   "execution_count": null,
   "metadata": {},
   "outputs": [],
   "source": [
    "'first statement'\n",
    "'second statement'"
   ]
  },
  {
   "cell_type": "code",
   "execution_count": null,
   "metadata": {},
   "outputs": [],
   "source": [
    "print('first String')\n",
    "print('second String')"
   ]
  },
  {
   "cell_type": "markdown",
   "metadata": {},
   "source": [
    "***\n",
    "Next to the ' operator, also \" does work. But don't mix them up! <br>\n",
    "It can be used to print strings that contain quotes."
   ]
  },
  {
   "cell_type": "code",
   "execution_count": null,
   "metadata": {},
   "outputs": [],
   "source": [
    "\"Hello World\""
   ]
  },
  {
   "cell_type": "code",
   "execution_count": null,
   "metadata": {},
   "outputs": [],
   "source": [
    "'Hello World\""
   ]
  },
  {
   "cell_type": "code",
   "execution_count": null,
   "metadata": {},
   "outputs": [],
   "source": [
    "print(\"It's the day\")\n",
    "print('She said \"hello\" to me')"
   ]
  },
  {
   "cell_type": "markdown",
   "metadata": {},
   "source": [
    "Exercise: Try to print the following String -> It's \"THE\" day"
   ]
  },
  {
   "cell_type": "code",
   "execution_count": null,
   "metadata": {},
   "outputs": [],
   "source": [
    "print(\"It's \" + '\"THE\"' + ' day')"
   ]
  },
  {
   "cell_type": "markdown",
   "metadata": {},
   "source": [
    "<br>"
   ]
  },
  {
   "cell_type": "markdown",
   "metadata": {},
   "source": [
    "## 4.3 What can you do with Strings?"
   ]
  },
  {
   "cell_type": "markdown",
   "metadata": {},
   "source": [
    "***\n",
    "Let's concatenate some strings and check it's length by using len()"
   ]
  },
  {
   "cell_type": "code",
   "execution_count": null,
   "metadata": {},
   "outputs": [],
   "source": [
    "string_1 = 'Good'\n",
    "string_2 = ' day'\n",
    "string_3 = string_1 + string_2\n",
    "print(string_3)"
   ]
  },
  {
   "cell_type": "code",
   "execution_count": null,
   "metadata": {},
   "outputs": [],
   "source": [
    "len(string_3)"
   ]
  },
  {
   "cell_type": "code",
   "execution_count": null,
   "metadata": {},
   "outputs": [],
   "source": [
    "string_1 = 'Bad'\n",
    "string_3 = string_1 + string_2"
   ]
  },
  {
   "cell_type": "markdown",
   "metadata": {},
   "source": [
    "***\n",
    "Printing the type of a string by using type() and convert to String with str()"
   ]
  },
  {
   "cell_type": "code",
   "execution_count": null,
   "metadata": {},
   "outputs": [],
   "source": [
    "my_variable = 'Bob'\n",
    "print(my_variable)\n",
    "print(type(my_variable))"
   ]
  },
  {
   "cell_type": "code",
   "execution_count": null,
   "metadata": {},
   "outputs": [],
   "source": [
    "text = 'Hi, Im'\n",
    "age =  21\n",
    "print(text + age)"
   ]
  },
  {
   "cell_type": "code",
   "execution_count": null,
   "metadata": {},
   "outputs": [],
   "source": [
    "text = 'Hi, Im'\n",
    "age =  ' 21'\n",
    "print(text + age)"
   ]
  },
  {
   "cell_type": "code",
   "execution_count": null,
   "metadata": {},
   "outputs": [],
   "source": [
    "age = 21\n",
    "type(age)"
   ]
  },
  {
   "cell_type": "code",
   "execution_count": null,
   "metadata": {},
   "outputs": [],
   "source": [
    "str(21)"
   ]
  },
  {
   "cell_type": "code",
   "execution_count": null,
   "metadata": {},
   "outputs": [],
   "source": [
    "msg = text + ' ' + str(21)\n",
    "print(msg)"
   ]
  },
  {
   "cell_type": "markdown",
   "metadata": {},
   "source": [
    "***\n",
    "Accessing parts of a string"
   ]
  },
  {
   "cell_type": "code",
   "execution_count": null,
   "metadata": {},
   "outputs": [],
   "source": [
    "my_string = 'Hello World'\n",
    "print(my_string[4])\n",
    "print(my_string[1:4])\n",
    "print(my_string[:4])\n",
    "print(my_string[2:])\n",
    "\n",
    "'2020-09-18'"
   ]
  },
  {
   "cell_type": "markdown",
   "metadata": {},
   "source": [
    "***\n",
    "Repeating Strings"
   ]
  },
  {
   "cell_type": "code",
   "execution_count": 1,
   "metadata": {},
   "outputs": [
    {
     "name": "stdout",
     "output_type": "stream",
     "text": [
      "**********\n",
      "Hi Hi Hi Hi Hi Hi Hi Hi Hi Hi Hi Hi Hi Hi Hi Hi Hi Hi Hi Hi Hi Hi Hi Hi Hi \n"
     ]
    }
   ],
   "source": [
    "print('*' * 10)\n",
    "print('Hi ' * 25)"
   ]
  },
  {
   "cell_type": "markdown",
   "metadata": {},
   "source": [
    "***\n",
    "### String Methods\n",
    "Converting a string to uppper or lower case with .upper() and .lower()"
   ]
  },
  {
   "cell_type": "code",
   "execution_count": 5,
   "metadata": {},
   "outputs": [
    {
     "ename": "NameError",
     "evalue": "name 'my_string' is not defined",
     "output_type": "error",
     "traceback": [
      "\u001b[1;31m---------------------------------------------------------------------------\u001b[0m",
      "\u001b[1;31mNameError\u001b[0m                                 Traceback (most recent call last)",
      "\u001b[1;32mC:\\Users\\DAAN~1.VAN\\AppData\\Local\\Temp/ipykernel_576/1558476574.py\u001b[0m in \u001b[0;36m<module>\u001b[1;34m\u001b[0m\n\u001b[1;32m----> 1\u001b[1;33m \u001b[0mmy_string\u001b[0m\u001b[1;33m.\u001b[0m\u001b[0mupper\u001b[0m\u001b[1;33m(\u001b[0m\u001b[1;33m)\u001b[0m\u001b[1;33m\u001b[0m\u001b[1;33m\u001b[0m\u001b[0m\n\u001b[0m",
      "\u001b[1;31mNameError\u001b[0m: name 'my_string' is not defined"
     ]
    }
   ],
   "source": [
    "my_string.upper()"
   ]
  },
  {
   "cell_type": "code",
   "execution_count": null,
   "metadata": {},
   "outputs": [],
   "source": [
    "my_string.lower()"
   ]
  },
  {
   "cell_type": "markdown",
   "metadata": {},
   "source": [
    "***\n",
    "Splitting a string up and access it's parts with .split(). <br>\n",
    "By doing so, we are creating an Array full of Strings"
   ]
  },
  {
   "cell_type": "code",
   "execution_count": null,
   "metadata": {},
   "outputs": [],
   "source": [
    "title = 'The Good, The Bad, and the Ugly'\n",
    "print(title)\n",
    "print(title.split(' '))\n",
    "print(title.split(','))"
   ]
  },
  {
   "cell_type": "code",
   "execution_count": null,
   "metadata": {},
   "outputs": [],
   "source": [
    "sep_title = title.split(',')\n",
    "print(sep_title)"
   ]
  },
  {
   "cell_type": "code",
   "execution_count": null,
   "metadata": {},
   "outputs": [],
   "source": [
    "sep_title[0]\n",
    "sep_title[1:3]\n",
    "sep_title[-1]"
   ]
  },
  {
   "cell_type": "code",
   "execution_count": null,
   "metadata": {},
   "outputs": [],
   "source": [
    "sep_title[0][0:2]"
   ]
  },
  {
   "cell_type": "markdown",
   "metadata": {},
   "source": [
    "***\n",
    "Let's count how often a substring appears in a string by .count()"
   ]
  },
  {
   "cell_type": "code",
   "execution_count": null,
   "metadata": {},
   "outputs": [],
   "source": [
    "my_string = 'Count, the number        of spaces'\n",
    "print('my string has ' + str(my_string.count(' ')) + ' spaces')\n",
    "type(my_string.count(' '))"
   ]
  },
  {
   "cell_type": "markdown",
   "metadata": {},
   "source": [
    "***\n",
    "String replacement / substitution with .replace()"
   ]
  },
  {
   "cell_type": "code",
   "execution_count": null,
   "metadata": {},
   "outputs": [],
   "source": [
    "welcome_message = 'Hello World!'\n",
    "welcome_message.replace(\"Hello\", \"Goodby\")"
   ]
  },
  {
   "cell_type": "markdown",
   "metadata": {},
   "source": [
    "***\n",
    "Testing strings containing another string with .find(). <br>\n",
    "The method returns −1 if the string is not present. Otherwise it returns an index\n",
    "indicating the start of the substring."
   ]
  },
  {
   "cell_type": "code",
   "execution_count": null,
   "metadata": {},
   "outputs": [],
   "source": [
    "print('Edward Alan Rawlings'.find('Alan'))\n",
    "print('Edward John Rawlings'.find('Alan'))"
   ]
  },
  {
   "cell_type": "markdown",
   "metadata": {},
   "source": [
    "***\n",
    "Logical tests with strings (Later also discussed in Part 2)"
   ]
  },
  {
   "cell_type": "code",
   "execution_count": null,
   "metadata": {},
   "outputs": [],
   "source": [
    "print('James' == 'James')\n",
    "print('James' == 'John')\n",
    "print('James' != 'John')\n",
    "print('James' != 'James')"
   ]
  },
  {
   "cell_type": "markdown",
   "metadata": {},
   "source": [
    "***\n",
    "Various different string operations"
   ]
  },
  {
   "cell_type": "code",
   "execution_count": null,
   "metadata": {},
   "outputs": [],
   "source": [
    "some_string = 'Hello World'\n",
    "\n",
    "print(some_string)\n",
    "print(some_string.startswith('H'))\n",
    "print(some_string.startswith('h'))\n",
    "print(some_string.endswith('d'))\n",
    "print(some_string.isupper())\n",
    "print(some_string.islower())"
   ]
  },
  {
   "cell_type": "markdown",
   "metadata": {},
   "source": [
    "<br>"
   ]
  },
  {
   "cell_type": "markdown",
   "metadata": {},
   "source": [
    "## 4.4 String Formatting"
   ]
  },
  {
   "cell_type": "markdown",
   "metadata": {},
   "source": [
    "Python provides a sophisticated formatting system for strings that can be useful for\n",
    "printing information out or logging information from a program.\n",
    "The string formatting system uses a special string known as the format string that\n",
    "acts as a pattern defining how the final string will be laid out. This format string can\n",
    "contain placeholders that will be replaced with actual values when the final string is\n",
    "created."
   ]
  },
  {
   "cell_type": "markdown",
   "metadata": {},
   "source": [
    "***\n",
    "Basic string formatting example"
   ]
  },
  {
   "cell_type": "code",
   "execution_count": null,
   "metadata": {},
   "outputs": [],
   "source": [
    "format_string = 'Hello {}!'\n",
    "print(format_string.format('Janek'))"
   ]
  },
  {
   "cell_type": "markdown",
   "metadata": {},
   "source": [
    "***\n",
    "Allows multiple values to populate the string"
   ]
  },
  {
   "cell_type": "code",
   "execution_count": null,
   "metadata": {},
   "outputs": [],
   "source": [
    "name = 'Janek'\n",
    "age = 18\n",
    "print(\"{} is {} years old\".format(name, age))"
   ]
  },
  {
   "cell_type": "markdown",
   "metadata": {},
   "source": [
    "***\n",
    "Can specify an index for the substitution"
   ]
  },
  {
   "cell_type": "code",
   "execution_count": null,
   "metadata": {},
   "outputs": [],
   "source": [
    "format_string = \"Hello {1} {0}, you got {2}% - {2}% is a great number\"\n",
    "print(format_string.format('Meyn', 'Janek', 75))"
   ]
  },
  {
   "cell_type": "markdown",
   "metadata": {},
   "source": [
    "***\n",
    "Can use named substitutions, order is not significant"
   ]
  },
  {
   "cell_type": "code",
   "execution_count": null,
   "metadata": {},
   "outputs": [],
   "source": [
    "format_string = \"{artist} sang {song} in {year}\"\n",
    "print(format_string.format(artist = 'Paloma', song = 'Guilt', year = 2017))"
   ]
  },
  {
   "cell_type": "markdown",
   "metadata": {},
   "source": [
    "***\n",
    "Can format numbers with comma as thousands separator"
   ]
  },
  {
   "cell_type": "code",
   "execution_count": null,
   "metadata": {},
   "outputs": [],
   "source": [
    "print('{:,}'.format(1234567890))\n",
    "print('{:,}'.format(1234567890.0))"
   ]
  },
  {
   "cell_type": "markdown",
   "metadata": {},
   "source": [
    "<br>"
   ]
  },
  {
   "cell_type": "markdown",
   "metadata": {},
   "source": [
    "## 4.5 Alternative: String Templates"
   ]
  },
  {
   "cell_type": "markdown",
   "metadata": {},
   "source": [
    "An alternative to using string formatting is to use string Templates. These were\n",
    "introduced into Python 2.4 as a simpler, less error prone, solution to most string\n",
    "formatting requirements. <br><br>\n",
    "Note that it is necessary to include an import statement at the start of the program\n",
    "as Templates are not provided by default in Python; they must be loaded from a\n",
    "library of additional string features."
   ]
  },
  {
   "cell_type": "code",
   "execution_count": 2,
   "metadata": {},
   "outputs": [],
   "source": [
    "import string"
   ]
  },
  {
   "cell_type": "markdown",
   "metadata": {},
   "source": [
    "***\n",
    "Initialise the template with variables that will be substitute with actual values"
   ]
  },
  {
   "cell_type": "code",
   "execution_count": 3,
   "metadata": {},
   "outputs": [],
   "source": [
    "template = string.Template('$artist sang $song in $year')"
   ]
  },
  {
   "cell_type": "markdown",
   "metadata": {},
   "source": [
    "***\n",
    "Replace substitute variables with actual value"
   ]
  },
  {
   "cell_type": "code",
   "execution_count": 4,
   "metadata": {},
   "outputs": [
    {
     "name": "stdout",
     "output_type": "stream",
     "text": [
      "Ed Sheeran sang Galway Girl in 2017\n"
     ]
    }
   ],
   "source": [
    "print(template.substitute(artist = 'Ed Sheeran', song = 'Galway Girl', year = 2017))"
   ]
  },
  {
   "cell_type": "markdown",
   "metadata": {},
   "source": [
    "***\n",
    "Using a dictionary to provide the value for the template variables"
   ]
  },
  {
   "cell_type": "code",
   "execution_count": 5,
   "metadata": {},
   "outputs": [
    {
     "name": "stdout",
     "output_type": "stream",
     "text": [
      "Billy Idol sang Eyes Without a Face in 1984\n"
     ]
    }
   ],
   "source": [
    "d = dict(artist = 'Billy Idol', song='Eyes Without a Face', year = 1984)\n",
    "print(template.substitute(d))"
   ]
  },
  {
   "cell_type": "markdown",
   "metadata": {},
   "source": [
    "***\n",
    "Optionally providing only some of the template variable values"
   ]
  },
  {
   "cell_type": "code",
   "execution_count": null,
   "metadata": {},
   "outputs": [],
   "source": [
    "print(template.safe_substitute(artist='David Bowie', song='Rebel Rebel'))"
   ]
  },
  {
   "cell_type": "markdown",
   "metadata": {},
   "source": [
    "## Exercise 1: Strings\n",
    "\n",
    "We are going to try out some of the string related operations.\n",
    "1. Explore replacing a string <br>\n",
    "Create a string with words separated by ',' and replace the commas with spaces;\n",
    "for example replace all the commas in 'Denyse,Marie,Smith,21,London,UK'\n",
    "with spaces. Now print out the resulting string.\n",
    "<br><br>\n",
    "2. Handle user input<br>\n",
    "The aim of this exercise is to write a program to ask the user for two strings and\n",
    "concatenate them together, with a space between them and store them into a new\n",
    "variable called new_string.\n",
    "Next:\n",
    "    - Print out the value of new_string.\n",
    "    - Print out how long the contents of new_string is.\n",
    "    - Now convert the contents of new_string to all upper case.\n",
    "    - Now check to see if new_string contains the string 'Albus' as a substring."
   ]
  },
  {
   "cell_type": "code",
   "execution_count": null,
   "metadata": {},
   "outputs": [],
   "source": []
  }
 ],
 "metadata": {
  "kernelspec": {
   "display_name": "Python 3 (ipykernel)",
   "language": "python",
   "name": "python3"
  },
  "language_info": {
   "codemirror_mode": {
    "name": "ipython",
    "version": 3
   },
   "file_extension": ".py",
   "mimetype": "text/x-python",
   "name": "python",
   "nbconvert_exporter": "python",
   "pygments_lexer": "ipython3",
   "version": "3.9.7"
  }
 },
 "nbformat": 4,
 "nbformat_minor": 4
}
