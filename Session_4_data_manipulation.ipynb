{
 "cells": [
  {
   "cell_type": "markdown",
   "metadata": {},
   "source": [
    "\n",
    "\n",
    "![SVG from www](https://upload.wikimedia.org/wikipedia/commons/thumb/a/a2/Kühne_Logistics_University_logo_2019.svg/100px-Kühne_Logistics_University_logo_2019.svg.png)  \n",
    "# Python Basics course September 2022  \n",
    "### Kuehne Logistics University  "
   ]
  },
  {
   "cell_type": "markdown",
   "metadata": {},
   "source": [
    "## Session 4: Introduction to data manipulation using the Numpy and Pandas library"
   ]
  },
  {
   "cell_type": "markdown",
   "metadata": {},
   "source": [
    "In this session we will start with data manipulation with Python. Recall how in session 1 we briefly discussed the software framework that's often used by programmes written in Python. Central to functionality in Python are the Libraries. One of such library, which is the go-to one to do anything related to data manipulation is called Pandas. Besides the the quick introduction that we're giving you here, Pandas has innumerable number of methods that we won't be able to disucss here. The more extensive user guide however can be found [here](https://pandas.pydata.org/docs/user_guide/index.html#user-guide).\n",
    "\n",
    "![](Figures/SoftwareLogic.png)\n",
    "\n"
   ]
  },
  {
   "cell_type": "markdown",
   "metadata": {},
   "source": [
    "## The Pandas DataFrame\n",
    "\n",
    "Central to working with Pandas is the format in which data is stored. This format is called `DataFrame`. You could compare this to storing data in an Excel spreadsheet. Namely, the way and the options of manipulations you have at your disposal, are the ones that Excel provides to you. Very similarly, a `DataFrame` allows you to manipulate data in a certain way. Another example of datatype-based methods in Python are the `String` methods, discussed in Session 2. \n",
    "\n",
    "![](Figures/DF_Example.png)\n",
    "\n",
    "Before doing anything, we have to load the Pandas libraries into our kernel. This is done with the `import` statement. The `as` statement assigns an abbreviation to the name of the library. That way,we don't have to type the full name before calling a method from that particular library. \n",
    "\n"
   ]
  },
  {
   "cell_type": "code",
   "execution_count": 1,
   "metadata": {},
   "outputs": [],
   "source": [
    "import pandas as pd"
   ]
  },
  {
   "cell_type": "markdown",
   "metadata": {},
   "source": [
    "The easy way to construct a DataFrame is to \"feed\" it with a `dictionary`. A dictionary is a Python-native way of storing data. A dictionary is initiated as follows: \n",
    "`{index:data}`. In the example below, we saved data on the brand, model and production years of a car. This can then be accessed through the index name.\n",
    "\n",
    "__Note:__ we can assign different types of data in one dictionary"
   ]
  },
  {
   "cell_type": "code",
   "execution_count": null,
   "metadata": {},
   "outputs": [],
   "source": [
    "thisdict = {\n",
    "  \"brand\": \"Ford\",\n",
    "  \"model\": \"Mustang\",\n",
    "  \"year\": [1964,1965,1966]\n",
    "}\n",
    "print(thisdict[\"brand\"]) # Printing the brand name\n",
    "print(thisdict[\"year\"]) # Printing the LIST of years of production"
   ]
  },
  {
   "cell_type": "markdown",
   "metadata": {},
   "source": [
    "Now, getting back to the constructing a `DataFrame`. One is constructed by calling the method `pandas.DataFrame()`. (In this case it's called with `pd.DataFrame()`, because we abbreviated Pandas with pd with the `as` statement). "
   ]
  },
  {
   "cell_type": "code",
   "execution_count": null,
   "metadata": {},
   "outputs": [],
   "source": [
    "# Construct a dictionary \n",
    "cars = {'Brand': ['Honda', 'Toyota', 'Ford', 'Audi','Honda','Audi'], 'Price': [22000, 25000, 27000, 35000,30000,10000]}\n",
    "\n",
    "# Make it into a DataFrame\n",
    "df = pd.DataFrame(cars)\n",
    "\n",
    "# Display the DataFrame\n",
    "df"
   ]
  },
  {
   "cell_type": "markdown",
   "metadata": {},
   "source": [
    "We can also tell it to only select the data with the index name `Price`. "
   ]
  },
  {
   "cell_type": "code",
   "execution_count": null,
   "metadata": {},
   "outputs": [],
   "source": [
    "df = pd.DataFrame(cars, columns = ['Price'])\n",
    "\n",
    "df"
   ]
  },
  {
   "cell_type": "markdown",
   "metadata": {},
   "source": [
    "The `.describe()` method gives a small summary for each of the numeric columns. "
   ]
  },
  {
   "cell_type": "code",
   "execution_count": null,
   "metadata": {},
   "outputs": [],
   "source": [
    "df = pd.DataFrame(cars)\n",
    "df['Price'].describe()"
   ]
  },
  {
   "cell_type": "markdown",
   "metadata": {},
   "source": [
    "We can also add a column, simply as follows: \n",
    "\n",
    "__Note__: the added column has to be the same length as the DataFrame to which it is added. "
   ]
  },
  {
   "cell_type": "code",
   "execution_count": null,
   "metadata": {},
   "outputs": [],
   "source": [
    "df['Color'] = ['green', 'blue', 'green', 'red','black','yellow']\n",
    "df"
   ]
  },
  {
   "cell_type": "markdown",
   "metadata": {},
   "source": [
    "### Selecting columns and rows\n",
    "A selection for a column can be made by subselecting the name of the column as follows:"
   ]
  },
  {
   "cell_type": "code",
   "execution_count": null,
   "metadata": {},
   "outputs": [],
   "source": [
    "df[\"Brand\"]"
   ]
  },
  {
   "cell_type": "markdown",
   "metadata": {},
   "source": [
    "Then we can select one entry based on the index value:"
   ]
  },
  {
   "cell_type": "code",
   "execution_count": null,
   "metadata": {},
   "outputs": [],
   "source": [
    "df[\"Brand\"][0]"
   ]
  },
  {
   "cell_type": "markdown",
   "metadata": {},
   "source": [
    "Note that this does not work for the \"whole\" DataFrame.To do so, we need the `.loc` argument, using as follows:"
   ]
  },
  {
   "cell_type": "code",
   "execution_count": null,
   "metadata": {},
   "outputs": [],
   "source": [
    "df.loc[0,\"Brand\"]"
   ]
  },
  {
   "cell_type": "markdown",
   "metadata": {},
   "source": [
    "We can also approach the DataFrame as a \"simple\" matrix, from which we select a row and a column, using the `.iloc[row,column]` statement. Recall how we can select data entries from a list. Now, we have to do it in two dimensions, due to the matrix shape of a DataFrame.\n",
    "![](Figures/hello.png)"
   ]
  },
  {
   "cell_type": "code",
   "execution_count": null,
   "metadata": {},
   "outputs": [],
   "source": [
    "df.iloc[0,0]"
   ]
  },
  {
   "cell_type": "markdown",
   "metadata": {},
   "source": [
    "Subsequently, for a list we can use the `:`, as follows:"
   ]
  },
  {
   "cell_type": "code",
   "execution_count": null,
   "metadata": {},
   "outputs": [],
   "source": [
    "df.iloc[0:2,0:3]"
   ]
  },
  {
   "cell_type": "markdown",
   "metadata": {},
   "source": [
    "In order to __save__ a subset of a DataFrame we want to work further with, we have to assign a new variable name (or overwrite). "
   ]
  },
  {
   "cell_type": "code",
   "execution_count": null,
   "metadata": {},
   "outputs": [],
   "source": [
    "subset = df.iloc[0:2,0:3]\n",
    "subset"
   ]
  },
  {
   "cell_type": "markdown",
   "metadata": {},
   "source": [
    "### Working with Pokedata\n",
    "Practically, we would like work with datasets that we don't create ourselves, but acquire externally. For the examples, we acquire a dataset from the following GitHub\n",
    "https://github.com/KeithGalli/pandas\n",
    "\n",
    "With all kinds of information about Pokémons. The information is stored in a \"comma-separated values\" file (.csv). This a very common smaller and bigger datasets. \n",
    "\n",
    "First, we start with loading the data using the `pandas.read_csv()` method. The input is a string with the location of the data file. This can be retrieved using the command `%pwd`, which returns the address of the so-called working directory. "
   ]
  },
  {
   "cell_type": "code",
   "execution_count": null,
   "metadata": {},
   "outputs": [],
   "source": [
    "%pwd"
   ]
  },
  {
   "cell_type": "code",
   "execution_count": null,
   "metadata": {},
   "outputs": [],
   "source": [
    "## Larger datasets: Pokemons \n",
    "pwd = %pwd\n",
    "#poke_data = pd.read_csv(pwd+\"\\\\pokemon_data.csv\")\n",
    "poke_data = pd.read_csv(pwd+\"/pokemon_data.csv\")"
   ]
  },
  {
   "cell_type": "markdown",
   "metadata": {},
   "source": [
    "Using the `.head()` and `.tail()` functions yields us an easy initial exploreation of the first and last rows of our dataset"
   ]
  },
  {
   "cell_type": "code",
   "execution_count": null,
   "metadata": {},
   "outputs": [],
   "source": [
    "poke_data.head(4)"
   ]
  },
  {
   "cell_type": "code",
   "execution_count": null,
   "metadata": {},
   "outputs": [],
   "source": [
    "poke_data.tail(5)"
   ]
  },
  {
   "cell_type": "markdown",
   "metadata": {},
   "source": [
    "The `len()` method can be used to see the number of rows of a dataset"
   ]
  },
  {
   "cell_type": "code",
   "execution_count": null,
   "metadata": {},
   "outputs": [],
   "source": [
    "len(poke_data)"
   ]
  },
  {
   "cell_type": "markdown",
   "metadata": {},
   "source": [
    "And, again, the `.describe()` method to see a brief description of our columns with numeric data. "
   ]
  },
  {
   "cell_type": "code",
   "execution_count": null,
   "metadata": {},
   "outputs": [],
   "source": [
    "poke_data.describe()"
   ]
  },
  {
   "cell_type": "markdown",
   "metadata": {},
   "source": [
    "### Selecting data\n",
    "\n",
    "Besides the examples that were given with the small dataset about cars, we also have more sophisticated ways of selecting the data, based on the information _in_ the data itself. The basis of this is a list of Boolean (recall: `True` or `False`), representing whether we want to select something, or not. \n",
    "\n",
    "Taking the small example of comparing the Name column in the dataset with the name of one Pokémon Bulbasaur. This yields a list of Booleans, with a `True` on the 0th index. "
   ]
  },
  {
   "cell_type": "code",
   "execution_count": null,
   "metadata": {},
   "outputs": [],
   "source": [
    "poke_data['Name']=='Bulbasaur'"
   ]
  },
  {
   "cell_type": "markdown",
   "metadata": {},
   "source": [
    "If we select the 0th row from the dataset we indeed find Bulbasaur. "
   ]
  },
  {
   "cell_type": "code",
   "execution_count": null,
   "metadata": {},
   "outputs": [],
   "source": [
    "poke_data.iloc[0]"
   ]
  },
  {
   "cell_type": "markdown",
   "metadata": {},
   "source": [
    "Knowing this, we can also select a subset for Grass Pokémons as follows:"
   ]
  },
  {
   "cell_type": "code",
   "execution_count": null,
   "metadata": {},
   "outputs": [],
   "source": [
    "poke_data[poke_data['Type 1']=='Grass']"
   ]
  },
  {
   "cell_type": "markdown",
   "metadata": {},
   "source": [
    "### Organising data\n",
    "DataFrames also have various methods to organise the data. Two examples that we discuss here are the `.sort_values()` and the `.groupby()` methods. "
   ]
  },
  {
   "cell_type": "code",
   "execution_count": null,
   "metadata": {},
   "outputs": [],
   "source": [
    "poke_data.sort_values(['HP'])"
   ]
  },
  {
   "cell_type": "code",
   "execution_count": null,
   "metadata": {},
   "outputs": [],
   "source": [
    "poke_data.groupby(['Generation']).sum()"
   ]
  },
  {
   "cell_type": "code",
   "execution_count": null,
   "metadata": {},
   "outputs": [],
   "source": [
    "poke_data.groupby(['Generation']).count()"
   ]
  },
  {
   "cell_type": "markdown",
   "metadata": {},
   "source": [
    "### Learning from the data\n",
    "There's many functionality in Pandas that allow us to make general statements about the dataset that would be very difficult to do manually. "
   ]
  },
  {
   "cell_type": "code",
   "execution_count": null,
   "metadata": {},
   "outputs": [],
   "source": [
    "print(\"The mean is \", poke_data['HP'].mean() )\n",
    "print(\"The min is \", poke_data['HP'].min() )\n",
    "print(\"The max is \", poke_data['HP'].max() )"
   ]
  },
  {
   "cell_type": "code",
   "execution_count": null,
   "metadata": {},
   "outputs": [],
   "source": [
    "gen1_grass = poke_data[ (poke_data['Type 1'] == 'Grass') & (poke_data['Generation'] == 1) ]\n",
    "gen5_grass = poke_data[ (poke_data['Type 1'] == 'Grass') & (poke_data['Generation'] == 5) ]\n",
    "\n",
    "print(len(gen1_grass),\"grass pokemons in gen 1\\n\",len(gen5_grass),\"grass pokemons in gen 5\")"
   ]
  },
  {
   "cell_type": "code",
   "execution_count": null,
   "metadata": {},
   "outputs": [],
   "source": [
    "# Strong pokemons\n",
    "strong_pokemons = poke_data[poke_data['HP'] > 50]\n",
    "print(\"There are \",len(strong_pokemons), \" strong pokemons\")"
   ]
  },
  {
   "cell_type": "code",
   "execution_count": null,
   "metadata": {},
   "outputs": [],
   "source": [
    "# Identifying the strongest pokemon\n",
    "maxHP = poke_data['HP'].max() # Max HP value\n",
    "strongest_pokemon = poke_data[poke_data['HP'] == maxHP] # Equal the max HP value to a row\n",
    "print(\"Strongest pokemon is : \",strongest_pokemon[\"Name\"]) # Print the name of the strongest Pokemon "
   ]
  },
  {
   "cell_type": "markdown",
   "metadata": {},
   "source": [
    "The `.groupby()` method is a powerful method that allows you to group data entries based on certain properties. In this case, we can can for example get the mean and summed HP for every Type 1 Pokemon. The `.count()` method counts the number of data entries that each category contains. "
   ]
  },
  {
   "cell_type": "code",
   "execution_count": null,
   "metadata": {},
   "outputs": [],
   "source": [
    "# Groupby mean \n",
    "poke_data.groupby(['Type 1']).mean()"
   ]
  },
  {
   "cell_type": "code",
   "execution_count": null,
   "metadata": {},
   "outputs": [],
   "source": [
    "# Groupby sum \n",
    "poke_data.groupby(['Type 1']).sum()"
   ]
  },
  {
   "cell_type": "code",
   "execution_count": null,
   "metadata": {},
   "outputs": [],
   "source": [
    "# Groupby count\n",
    "poke_data.groupby(['Type 1']).count()"
   ]
  },
  {
   "cell_type": "markdown",
   "metadata": {},
   "source": [
    "### Simple visualisation\n",
    "\n",
    "Besides the aforementioned methods, a DataFrame also has the possibility to be visualised in a simple manner by the `.plot()` method. All options are listed [here](https://pandas.pydata.org/docs/reference/api/pandas.DataFrame.plot.html). \n",
    "\n",
    "By default, a line is plotted, but many more options are possible: \n",
    "\n",
    "* ‘line’ : line plot (default)\n",
    "* ‘bar’ : vertical bar plot\n",
    "* ‘barh’ : horizontal bar plot\n",
    "* ‘hist’ : histogram\n",
    "* ‘box’ : boxplot\n",
    "* ‘kde’ : Kernel Density Estimation plot\n",
    "* ‘density’ : same as ‘kde’\n",
    "* ‘area’ : area plot"
   ]
  },
  {
   "cell_type": "code",
   "execution_count": null,
   "metadata": {},
   "outputs": [],
   "source": [
    "mean_type1 = poke_data.groupby(['Type 1']).mean()\n",
    "mean_type1['HP'].plot(kind='line');"
   ]
  },
  {
   "cell_type": "code",
   "execution_count": null,
   "metadata": {},
   "outputs": [],
   "source": [
    "# And a little more readable\n",
    "mean_type1['HP'].plot(kind='bar',title=\"HP per Type 1\",ylabel='HP points');"
   ]
  },
  {
   "cell_type": "markdown",
   "metadata": {},
   "source": [
    "## Exercises on the sample sales dataset\n",
    "\n",
    "* First load in the dataset \"SampleSales.csv\", located in the working directory.\n",
    "\n",
    "* How many individual customers do we have? \n",
    "* How many orders did we have in Miami? \n",
    "\n",
    "* How much profit did we make in the West region? \n",
    "* How much profit did we make in total? \n",
    "* How much profit did we make, besides California? \n",
    "* Make a table-wise overview of the profit per state. \n",
    "\n",
    "* What is the most profitable order?\n",
    "\n",
    "Think about the labels for the x and y-axis and titles!\n",
    "* Visualise the turnover for each region using a barplot "
   ]
  },
  {
   "cell_type": "code",
   "execution_count": 3,
   "metadata": {},
   "outputs": [],
   "source": [
    "pwd = %pwd\n",
    "sales_data = pd.read_csv(pwd+\"/SampleSales.csv\")"
   ]
  },
  {
   "cell_type": "code",
   "execution_count": null,
   "metadata": {},
   "outputs": [],
   "source": [
    "len(sales_data['Customer ID'].unique())"
   ]
  },
  {
   "cell_type": "code",
   "execution_count": null,
   "metadata": {},
   "outputs": [],
   "source": [
    "west = sales_data[sales_data['Region']=='West']\n",
    "west['Profit'].sum()"
   ]
  },
  {
   "cell_type": "code",
   "execution_count": null,
   "metadata": {},
   "outputs": [],
   "source": [
    "sales_data['Profit'].sum()"
   ]
  },
  {
   "cell_type": "code",
   "execution_count": null,
   "metadata": {},
   "outputs": [],
   "source": [
    "west = sales_data[sales_data['State']!='California']\n",
    "west['Profit'].sum()"
   ]
  },
  {
   "cell_type": "code",
   "execution_count": null,
   "metadata": {},
   "outputs": [],
   "source": [
    "sales_data.groupby(['State']).sum()"
   ]
  },
  {
   "cell_type": "code",
   "execution_count": null,
   "metadata": {},
   "outputs": [],
   "source": [
    "sales_data['Profit'].max()"
   ]
  },
  {
   "cell_type": "code",
   "execution_count": null,
   "metadata": {},
   "outputs": [],
   "source": [
    "mean_type1 = sales_data.groupby(['Region']).sum()\n",
    "mean_type1['Sales'].plot(kind='bar',title=\"Region\",ylabel='Sales');"
   ]
  },
  {
   "cell_type": "code",
   "execution_count": null,
   "metadata": {},
   "outputs": [],
   "source": []
  },
  {
   "cell_type": "markdown",
   "metadata": {
    "tags": []
   },
   "source": [
    "## Extra exercises\n",
    "Hint: Use Google!\n",
    "\n",
    "* How much profit did we make, on average, per unit for each customer? (Hint: use the profit, customer ID/name and Quantity columns)\n",
    "\n",
    "* What percentage of profit did we \"lose\" on discount for Furniture in 2015 (user order date)? Hint: DateTime is automatically recognised and can be compared as strings. E.g. 01\\03\\2016>01\\06\\2017 results in False.\n",
    "\n",
    "* Visualise the profit for both the consumer and corporate segment using a boxplot\n",
    "\n",
    "* The SampleSales dataset contains a column \"Row ID\". Try to load the dataset without this column. "
   ]
  },
  {
   "cell_type": "code",
   "execution_count": 4,
   "metadata": {},
   "outputs": [
    {
     "data": {
      "text/html": [
       "<div>\n",
       "<style scoped>\n",
       "    .dataframe tbody tr th:only-of-type {\n",
       "        vertical-align: middle;\n",
       "    }\n",
       "\n",
       "    .dataframe tbody tr th {\n",
       "        vertical-align: top;\n",
       "    }\n",
       "\n",
       "    .dataframe thead th {\n",
       "        text-align: right;\n",
       "    }\n",
       "</style>\n",
       "<table border=\"1\" class=\"dataframe\">\n",
       "  <thead>\n",
       "    <tr style=\"text-align: right;\">\n",
       "      <th></th>\n",
       "      <th>Row ID</th>\n",
       "      <th>Postal Code</th>\n",
       "      <th>Sales</th>\n",
       "      <th>Quantity</th>\n",
       "      <th>Discount</th>\n",
       "      <th>Profit</th>\n",
       "      <th>Profit per Unit</th>\n",
       "    </tr>\n",
       "    <tr>\n",
       "      <th>Customer ID</th>\n",
       "      <th></th>\n",
       "      <th></th>\n",
       "      <th></th>\n",
       "      <th></th>\n",
       "      <th></th>\n",
       "      <th></th>\n",
       "      <th></th>\n",
       "    </tr>\n",
       "  </thead>\n",
       "  <tbody>\n",
       "    <tr>\n",
       "      <th>AA-10315</th>\n",
       "      <td>43823</td>\n",
       "      <td>727845</td>\n",
       "      <td>5563.560</td>\n",
       "      <td>30</td>\n",
       "      <td>1.00</td>\n",
       "      <td>-362.8825</td>\n",
       "      <td>-12.096083</td>\n",
       "    </tr>\n",
       "    <tr>\n",
       "      <th>AA-10375</th>\n",
       "      <td>60900</td>\n",
       "      <td>664413</td>\n",
       "      <td>1056.390</td>\n",
       "      <td>41</td>\n",
       "      <td>1.20</td>\n",
       "      <td>277.3824</td>\n",
       "      <td>6.765424</td>\n",
       "    </tr>\n",
       "    <tr>\n",
       "      <th>AA-10480</th>\n",
       "      <td>55548</td>\n",
       "      <td>604689</td>\n",
       "      <td>1790.512</td>\n",
       "      <td>36</td>\n",
       "      <td>0.20</td>\n",
       "      <td>435.8274</td>\n",
       "      <td>12.106317</td>\n",
       "    </tr>\n",
       "    <tr>\n",
       "      <th>AA-10645</th>\n",
       "      <td>109566</td>\n",
       "      <td>911792</td>\n",
       "      <td>5086.935</td>\n",
       "      <td>64</td>\n",
       "      <td>1.15</td>\n",
       "      <td>857.8033</td>\n",
       "      <td>13.403177</td>\n",
       "    </tr>\n",
       "    <tr>\n",
       "      <th>AB-10015</th>\n",
       "      <td>40717</td>\n",
       "      <td>516566</td>\n",
       "      <td>886.156</td>\n",
       "      <td>13</td>\n",
       "      <td>0.40</td>\n",
       "      <td>129.3465</td>\n",
       "      <td>9.949731</td>\n",
       "    </tr>\n",
       "    <tr>\n",
       "      <th>...</th>\n",
       "      <td>...</td>\n",
       "      <td>...</td>\n",
       "      <td>...</td>\n",
       "      <td>...</td>\n",
       "      <td>...</td>\n",
       "      <td>...</td>\n",
       "      <td>...</td>\n",
       "    </tr>\n",
       "    <tr>\n",
       "      <th>XP-21865</th>\n",
       "      <td>156468</td>\n",
       "      <td>1781278</td>\n",
       "      <td>2374.658</td>\n",
       "      <td>100</td>\n",
       "      <td>1.30</td>\n",
       "      <td>621.2300</td>\n",
       "      <td>6.212300</td>\n",
       "    </tr>\n",
       "    <tr>\n",
       "      <th>YC-21895</th>\n",
       "      <td>28839</td>\n",
       "      <td>461734</td>\n",
       "      <td>5454.350</td>\n",
       "      <td>31</td>\n",
       "      <td>0.60</td>\n",
       "      <td>1305.6290</td>\n",
       "      <td>42.117065</td>\n",
       "    </tr>\n",
       "    <tr>\n",
       "      <th>YS-21880</th>\n",
       "      <td>70256</td>\n",
       "      <td>812394</td>\n",
       "      <td>6720.444</td>\n",
       "      <td>58</td>\n",
       "      <td>0.60</td>\n",
       "      <td>1778.2923</td>\n",
       "      <td>30.660212</td>\n",
       "    </tr>\n",
       "    <tr>\n",
       "      <th>ZC-21910</th>\n",
       "      <td>92429</td>\n",
       "      <td>2318355</td>\n",
       "      <td>8025.707</td>\n",
       "      <td>105</td>\n",
       "      <td>7.90</td>\n",
       "      <td>-1032.1490</td>\n",
       "      <td>-9.829990</td>\n",
       "    </tr>\n",
       "    <tr>\n",
       "      <th>ZD-21925</th>\n",
       "      <td>30871</td>\n",
       "      <td>568964</td>\n",
       "      <td>1493.944</td>\n",
       "      <td>32</td>\n",
       "      <td>1.00</td>\n",
       "      <td>249.1307</td>\n",
       "      <td>7.785334</td>\n",
       "    </tr>\n",
       "  </tbody>\n",
       "</table>\n",
       "<p>793 rows × 7 columns</p>\n",
       "</div>"
      ],
      "text/plain": [
       "             Row ID  Postal Code     Sales  Quantity  Discount     Profit  \\\n",
       "Customer ID                                                                 \n",
       "AA-10315      43823       727845  5563.560        30      1.00  -362.8825   \n",
       "AA-10375      60900       664413  1056.390        41      1.20   277.3824   \n",
       "AA-10480      55548       604689  1790.512        36      0.20   435.8274   \n",
       "AA-10645     109566       911792  5086.935        64      1.15   857.8033   \n",
       "AB-10015      40717       516566   886.156        13      0.40   129.3465   \n",
       "...             ...          ...       ...       ...       ...        ...   \n",
       "XP-21865     156468      1781278  2374.658       100      1.30   621.2300   \n",
       "YC-21895      28839       461734  5454.350        31      0.60  1305.6290   \n",
       "YS-21880      70256       812394  6720.444        58      0.60  1778.2923   \n",
       "ZC-21910      92429      2318355  8025.707       105      7.90 -1032.1490   \n",
       "ZD-21925      30871       568964  1493.944        32      1.00   249.1307   \n",
       "\n",
       "             Profit per Unit  \n",
       "Customer ID                   \n",
       "AA-10315          -12.096083  \n",
       "AA-10375            6.765424  \n",
       "AA-10480           12.106317  \n",
       "AA-10645           13.403177  \n",
       "AB-10015            9.949731  \n",
       "...                      ...  \n",
       "XP-21865            6.212300  \n",
       "YC-21895           42.117065  \n",
       "YS-21880           30.660212  \n",
       "ZC-21910           -9.829990  \n",
       "ZD-21925            7.785334  \n",
       "\n",
       "[793 rows x 7 columns]"
      ]
     },
     "execution_count": 4,
     "metadata": {},
     "output_type": "execute_result"
    }
   ],
   "source": [
    "df = sales_data.groupby(['Customer ID']).sum(numeric_only=True)\n",
    "df['Profit per Unit'] = df['Profit']/df['Quantity']\n",
    "df"
   ]
  },
  {
   "cell_type": "code",
   "execution_count": 5,
   "metadata": {},
   "outputs": [
    {
     "data": {
      "text/plain": [
       "-0.11769421026332019"
      ]
     },
     "execution_count": 5,
     "metadata": {},
     "output_type": "execute_result"
    }
   ],
   "source": [
    "import datetime\n",
    "sales_data['Order Date'] = pd.to_datetime(sales_data['Order Date'])\n",
    "df = sales_data[ (sales_data['Order Date'] > '2015-01-01') & (sales_data['Order Date'] < '2016-01-01')]\n",
    "discount = df[df['Discount']!=0]\n",
    "percentage = discount['Profit'].sum()/ df['Profit'].sum()\n",
    "percentage"
   ]
  },
  {
   "cell_type": "code",
   "execution_count": 7,
   "metadata": {},
   "outputs": [
    {
     "data": {
      "text/plain": [
       "<AxesSubplot:title={'center':'Profit'}, xlabel='Segment'>"
      ]
     },
     "execution_count": 7,
     "metadata": {},
     "output_type": "execute_result"
    },
    {
     "data": {
      "image/png": "[encoded data removed]",
      "text/plain": [
       "<Figure size 432x288 with 1 Axes>"
      ]
     },
     "metadata": {
      "needs_background": "light"
     },
     "output_type": "display_data"
    }
   ],
   "source": [
    "sales_data.boxplot(column = 'Profit', by = 'Segment', showfliers=True)"
   ]
  },
  {
   "cell_type": "code",
   "execution_count": 8,
   "metadata": {},
   "outputs": [
    {
     "data": {
      "text/html": [
       "<div>\n",
       "<style scoped>\n",
       "    .dataframe tbody tr th:only-of-type {\n",
       "        vertical-align: middle;\n",
       "    }\n",
       "\n",
       "    .dataframe tbody tr th {\n",
       "        vertical-align: top;\n",
       "    }\n",
       "\n",
       "    .dataframe thead th {\n",
       "        text-align: right;\n",
       "    }\n",
       "</style>\n",
       "<table border=\"1\" class=\"dataframe\">\n",
       "  <thead>\n",
       "    <tr style=\"text-align: right;\">\n",
       "      <th></th>\n",
       "      <th>Order ID</th>\n",
       "      <th>Order Date</th>\n",
       "      <th>Ship Date</th>\n",
       "      <th>Ship Mode</th>\n",
       "      <th>Customer ID</th>\n",
       "      <th>Customer Name</th>\n",
       "      <th>Segment</th>\n",
       "      <th>Country</th>\n",
       "      <th>City</th>\n",
       "      <th>State</th>\n",
       "      <th>Postal Code</th>\n",
       "      <th>Region</th>\n",
       "      <th>Product ID</th>\n",
       "      <th>Category</th>\n",
       "      <th>Sub-Category</th>\n",
       "      <th>Product Name</th>\n",
       "      <th>Sales</th>\n",
       "      <th>Quantity</th>\n",
       "      <th>Discount</th>\n",
       "      <th>Profit</th>\n",
       "    </tr>\n",
       "  </thead>\n",
       "  <tbody>\n",
       "    <tr>\n",
       "      <th>0</th>\n",
       "      <td>CA-2016-152156</td>\n",
       "      <td>11/8/2016</td>\n",
       "      <td>11/11/2016</td>\n",
       "      <td>Second Class</td>\n",
       "      <td>CG-12520</td>\n",
       "      <td>Claire Gute</td>\n",
       "      <td>Consumer</td>\n",
       "      <td>United States</td>\n",
       "      <td>Henderson</td>\n",
       "      <td>Kentucky</td>\n",
       "      <td>42420</td>\n",
       "      <td>South</td>\n",
       "      <td>FUR-BO-10001798</td>\n",
       "      <td>Furniture</td>\n",
       "      <td>Bookcases</td>\n",
       "      <td>Bush Somerset Collection Bookcase</td>\n",
       "      <td>261.9600</td>\n",
       "      <td>2</td>\n",
       "      <td>0.00</td>\n",
       "      <td>41.9136</td>\n",
       "    </tr>\n",
       "    <tr>\n",
       "      <th>1</th>\n",
       "      <td>CA-2016-152156</td>\n",
       "      <td>11/8/2016</td>\n",
       "      <td>11/11/2016</td>\n",
       "      <td>Second Class</td>\n",
       "      <td>CG-12520</td>\n",
       "      <td>Claire Gute</td>\n",
       "      <td>Consumer</td>\n",
       "      <td>United States</td>\n",
       "      <td>Henderson</td>\n",
       "      <td>Kentucky</td>\n",
       "      <td>42420</td>\n",
       "      <td>South</td>\n",
       "      <td>FUR-CH-10000454</td>\n",
       "      <td>Furniture</td>\n",
       "      <td>Chairs</td>\n",
       "      <td>Hon Deluxe Fabric Upholstered Stacking Chairs,...</td>\n",
       "      <td>731.9400</td>\n",
       "      <td>3</td>\n",
       "      <td>0.00</td>\n",
       "      <td>219.5820</td>\n",
       "    </tr>\n",
       "    <tr>\n",
       "      <th>2</th>\n",
       "      <td>CA-2016-138688</td>\n",
       "      <td>6/12/2016</td>\n",
       "      <td>6/16/2016</td>\n",
       "      <td>Second Class</td>\n",
       "      <td>DV-13045</td>\n",
       "      <td>Darrin Van Huff</td>\n",
       "      <td>Corporate</td>\n",
       "      <td>United States</td>\n",
       "      <td>Los Angeles</td>\n",
       "      <td>California</td>\n",
       "      <td>90036</td>\n",
       "      <td>West</td>\n",
       "      <td>OFF-LA-10000240</td>\n",
       "      <td>Office Supplies</td>\n",
       "      <td>Labels</td>\n",
       "      <td>Self-Adhesive Address Labels for Typewriters b...</td>\n",
       "      <td>14.6200</td>\n",
       "      <td>2</td>\n",
       "      <td>0.00</td>\n",
       "      <td>6.8714</td>\n",
       "    </tr>\n",
       "    <tr>\n",
       "      <th>3</th>\n",
       "      <td>US-2015-108966</td>\n",
       "      <td>10/11/2015</td>\n",
       "      <td>10/18/2015</td>\n",
       "      <td>Standard Class</td>\n",
       "      <td>SO-20335</td>\n",
       "      <td>Sean O'Donnell</td>\n",
       "      <td>Consumer</td>\n",
       "      <td>United States</td>\n",
       "      <td>Fort Lauderdale</td>\n",
       "      <td>Florida</td>\n",
       "      <td>33311</td>\n",
       "      <td>South</td>\n",
       "      <td>FUR-TA-10000577</td>\n",
       "      <td>Furniture</td>\n",
       "      <td>Tables</td>\n",
       "      <td>Bretford CR4500 Series Slim Rectangular Table</td>\n",
       "      <td>957.5775</td>\n",
       "      <td>5</td>\n",
       "      <td>0.45</td>\n",
       "      <td>-383.0310</td>\n",
       "    </tr>\n",
       "    <tr>\n",
       "      <th>4</th>\n",
       "      <td>US-2015-108966</td>\n",
       "      <td>10/11/2015</td>\n",
       "      <td>10/18/2015</td>\n",
       "      <td>Standard Class</td>\n",
       "      <td>SO-20335</td>\n",
       "      <td>Sean O'Donnell</td>\n",
       "      <td>Consumer</td>\n",
       "      <td>United States</td>\n",
       "      <td>Fort Lauderdale</td>\n",
       "      <td>Florida</td>\n",
       "      <td>33311</td>\n",
       "      <td>South</td>\n",
       "      <td>OFF-ST-10000760</td>\n",
       "      <td>Office Supplies</td>\n",
       "      <td>Storage</td>\n",
       "      <td>Eldon Fold 'N Roll Cart System</td>\n",
       "      <td>22.3680</td>\n",
       "      <td>2</td>\n",
       "      <td>0.20</td>\n",
       "      <td>2.5164</td>\n",
       "    </tr>\n",
       "    <tr>\n",
       "      <th>...</th>\n",
       "      <td>...</td>\n",
       "      <td>...</td>\n",
       "      <td>...</td>\n",
       "      <td>...</td>\n",
       "      <td>...</td>\n",
       "      <td>...</td>\n",
       "      <td>...</td>\n",
       "      <td>...</td>\n",
       "      <td>...</td>\n",
       "      <td>...</td>\n",
       "      <td>...</td>\n",
       "      <td>...</td>\n",
       "      <td>...</td>\n",
       "      <td>...</td>\n",
       "      <td>...</td>\n",
       "      <td>...</td>\n",
       "      <td>...</td>\n",
       "      <td>...</td>\n",
       "      <td>...</td>\n",
       "      <td>...</td>\n",
       "    </tr>\n",
       "    <tr>\n",
       "      <th>9989</th>\n",
       "      <td>CA-2014-110422</td>\n",
       "      <td>1/21/2014</td>\n",
       "      <td>1/23/2014</td>\n",
       "      <td>Second Class</td>\n",
       "      <td>TB-21400</td>\n",
       "      <td>Tom Boeckenhauer</td>\n",
       "      <td>Consumer</td>\n",
       "      <td>United States</td>\n",
       "      <td>Miami</td>\n",
       "      <td>Florida</td>\n",
       "      <td>33180</td>\n",
       "      <td>South</td>\n",
       "      <td>FUR-FU-10001889</td>\n",
       "      <td>Furniture</td>\n",
       "      <td>Furnishings</td>\n",
       "      <td>Ultra Door Pull Handle</td>\n",
       "      <td>25.2480</td>\n",
       "      <td>3</td>\n",
       "      <td>0.20</td>\n",
       "      <td>4.1028</td>\n",
       "    </tr>\n",
       "    <tr>\n",
       "      <th>9990</th>\n",
       "      <td>CA-2017-121258</td>\n",
       "      <td>2/26/2017</td>\n",
       "      <td>3/3/2017</td>\n",
       "      <td>Standard Class</td>\n",
       "      <td>DB-13060</td>\n",
       "      <td>Dave Brooks</td>\n",
       "      <td>Consumer</td>\n",
       "      <td>United States</td>\n",
       "      <td>Costa Mesa</td>\n",
       "      <td>California</td>\n",
       "      <td>92627</td>\n",
       "      <td>West</td>\n",
       "      <td>FUR-FU-10000747</td>\n",
       "      <td>Furniture</td>\n",
       "      <td>Furnishings</td>\n",
       "      <td>Tenex B1-RE Series Chair Mats for Low Pile Car...</td>\n",
       "      <td>91.9600</td>\n",
       "      <td>2</td>\n",
       "      <td>0.00</td>\n",
       "      <td>15.6332</td>\n",
       "    </tr>\n",
       "    <tr>\n",
       "      <th>9991</th>\n",
       "      <td>CA-2017-121258</td>\n",
       "      <td>2/26/2017</td>\n",
       "      <td>3/3/2017</td>\n",
       "      <td>Standard Class</td>\n",
       "      <td>DB-13060</td>\n",
       "      <td>Dave Brooks</td>\n",
       "      <td>Consumer</td>\n",
       "      <td>United States</td>\n",
       "      <td>Costa Mesa</td>\n",
       "      <td>California</td>\n",
       "      <td>92627</td>\n",
       "      <td>West</td>\n",
       "      <td>TEC-PH-10003645</td>\n",
       "      <td>Technology</td>\n",
       "      <td>Phones</td>\n",
       "      <td>Aastra 57i VoIP phone</td>\n",
       "      <td>258.5760</td>\n",
       "      <td>2</td>\n",
       "      <td>0.20</td>\n",
       "      <td>19.3932</td>\n",
       "    </tr>\n",
       "    <tr>\n",
       "      <th>9992</th>\n",
       "      <td>CA-2017-121258</td>\n",
       "      <td>2/26/2017</td>\n",
       "      <td>3/3/2017</td>\n",
       "      <td>Standard Class</td>\n",
       "      <td>DB-13060</td>\n",
       "      <td>Dave Brooks</td>\n",
       "      <td>Consumer</td>\n",
       "      <td>United States</td>\n",
       "      <td>Costa Mesa</td>\n",
       "      <td>California</td>\n",
       "      <td>92627</td>\n",
       "      <td>West</td>\n",
       "      <td>OFF-PA-10004041</td>\n",
       "      <td>Office Supplies</td>\n",
       "      <td>Paper</td>\n",
       "      <td>It's Hot Message Books with Stickers, 2 3/4\" x 5\"</td>\n",
       "      <td>29.6000</td>\n",
       "      <td>4</td>\n",
       "      <td>0.00</td>\n",
       "      <td>13.3200</td>\n",
       "    </tr>\n",
       "    <tr>\n",
       "      <th>9993</th>\n",
       "      <td>CA-2017-119914</td>\n",
       "      <td>5/4/2017</td>\n",
       "      <td>5/9/2017</td>\n",
       "      <td>Second Class</td>\n",
       "      <td>CC-12220</td>\n",
       "      <td>Chris Cortes</td>\n",
       "      <td>Consumer</td>\n",
       "      <td>United States</td>\n",
       "      <td>Westminster</td>\n",
       "      <td>California</td>\n",
       "      <td>92683</td>\n",
       "      <td>West</td>\n",
       "      <td>OFF-AP-10002684</td>\n",
       "      <td>Office Supplies</td>\n",
       "      <td>Appliances</td>\n",
       "      <td>Acco 7-Outlet Masterpiece Power Center, Wihtou...</td>\n",
       "      <td>243.1600</td>\n",
       "      <td>2</td>\n",
       "      <td>0.00</td>\n",
       "      <td>72.9480</td>\n",
       "    </tr>\n",
       "  </tbody>\n",
       "</table>\n",
       "<p>9994 rows × 20 columns</p>\n",
       "</div>"
      ],
      "text/plain": [
       "            Order ID  Order Date   Ship Date       Ship Mode Customer ID  \\\n",
       "0     CA-2016-152156   11/8/2016  11/11/2016    Second Class    CG-12520   \n",
       "1     CA-2016-152156   11/8/2016  11/11/2016    Second Class    CG-12520   \n",
       "2     CA-2016-138688   6/12/2016   6/16/2016    Second Class    DV-13045   \n",
       "3     US-2015-108966  10/11/2015  10/18/2015  Standard Class    SO-20335   \n",
       "4     US-2015-108966  10/11/2015  10/18/2015  Standard Class    SO-20335   \n",
       "...              ...         ...         ...             ...         ...   \n",
       "9989  CA-2014-110422   1/21/2014   1/23/2014    Second Class    TB-21400   \n",
       "9990  CA-2017-121258   2/26/2017    3/3/2017  Standard Class    DB-13060   \n",
       "9991  CA-2017-121258   2/26/2017    3/3/2017  Standard Class    DB-13060   \n",
       "9992  CA-2017-121258   2/26/2017    3/3/2017  Standard Class    DB-13060   \n",
       "9993  CA-2017-119914    5/4/2017    5/9/2017    Second Class    CC-12220   \n",
       "\n",
       "         Customer Name    Segment        Country             City       State  \\\n",
       "0          Claire Gute   Consumer  United States        Henderson    Kentucky   \n",
       "1          Claire Gute   Consumer  United States        Henderson    Kentucky   \n",
       "2      Darrin Van Huff  Corporate  United States      Los Angeles  California   \n",
       "3       Sean O'Donnell   Consumer  United States  Fort Lauderdale     Florida   \n",
       "4       Sean O'Donnell   Consumer  United States  Fort Lauderdale     Florida   \n",
       "...                ...        ...            ...              ...         ...   \n",
       "9989  Tom Boeckenhauer   Consumer  United States            Miami     Florida   \n",
       "9990       Dave Brooks   Consumer  United States       Costa Mesa  California   \n",
       "9991       Dave Brooks   Consumer  United States       Costa Mesa  California   \n",
       "9992       Dave Brooks   Consumer  United States       Costa Mesa  California   \n",
       "9993      Chris Cortes   Consumer  United States      Westminster  California   \n",
       "\n",
       "      Postal Code Region       Product ID         Category Sub-Category  \\\n",
       "0           42420  South  FUR-BO-10001798        Furniture    Bookcases   \n",
       "1           42420  South  FUR-CH-10000454        Furniture       Chairs   \n",
       "2           90036   West  OFF-LA-10000240  Office Supplies       Labels   \n",
       "3           33311  South  FUR-TA-10000577        Furniture       Tables   \n",
       "4           33311  South  OFF-ST-10000760  Office Supplies      Storage   \n",
       "...           ...    ...              ...              ...          ...   \n",
       "9989        33180  South  FUR-FU-10001889        Furniture  Furnishings   \n",
       "9990        92627   West  FUR-FU-10000747        Furniture  Furnishings   \n",
       "9991        92627   West  TEC-PH-10003645       Technology       Phones   \n",
       "9992        92627   West  OFF-PA-10004041  Office Supplies        Paper   \n",
       "9993        92683   West  OFF-AP-10002684  Office Supplies   Appliances   \n",
       "\n",
       "                                           Product Name     Sales  Quantity  \\\n",
       "0                     Bush Somerset Collection Bookcase  261.9600         2   \n",
       "1     Hon Deluxe Fabric Upholstered Stacking Chairs,...  731.9400         3   \n",
       "2     Self-Adhesive Address Labels for Typewriters b...   14.6200         2   \n",
       "3         Bretford CR4500 Series Slim Rectangular Table  957.5775         5   \n",
       "4                        Eldon Fold 'N Roll Cart System   22.3680         2   \n",
       "...                                                 ...       ...       ...   \n",
       "9989                             Ultra Door Pull Handle   25.2480         3   \n",
       "9990  Tenex B1-RE Series Chair Mats for Low Pile Car...   91.9600         2   \n",
       "9991                              Aastra 57i VoIP phone  258.5760         2   \n",
       "9992  It's Hot Message Books with Stickers, 2 3/4\" x 5\"   29.6000         4   \n",
       "9993  Acco 7-Outlet Masterpiece Power Center, Wihtou...  243.1600         2   \n",
       "\n",
       "      Discount    Profit  \n",
       "0         0.00   41.9136  \n",
       "1         0.00  219.5820  \n",
       "2         0.00    6.8714  \n",
       "3         0.45 -383.0310  \n",
       "4         0.20    2.5164  \n",
       "...        ...       ...  \n",
       "9989      0.20    4.1028  \n",
       "9990      0.00   15.6332  \n",
       "9991      0.20   19.3932  \n",
       "9992      0.00   13.3200  \n",
       "9993      0.00   72.9480  \n",
       "\n",
       "[9994 rows x 20 columns]"
      ]
     },
     "execution_count": 8,
     "metadata": {},
     "output_type": "execute_result"
    }
   ],
   "source": [
    "cols = list(pd.read_csv(pwd+\"/SampleSales.csv\", nrows=1))\n",
    "withoutrowid = pd.read_csv(pwd+\"/SampleSales.csv\", usecols =[i for i in cols if i != 'Row ID'])\n",
    "withoutrowid"
   ]
  }
 ],
 "metadata": {
  "kernelspec": {
   "display_name": "Python 3 (ipykernel)",
   "language": "python",
   "name": "python3"
  },
  "language_info": {
   "codemirror_mode": {
    "name": "ipython",
    "version": 3
   },
   "file_extension": ".py",
   "mimetype": "text/x-python",
   "name": "python",
   "nbconvert_exporter": "python",
   "pygments_lexer": "ipython3",
   "version": "3.9.12"
  }
 },
 "nbformat": 4,
 "nbformat_minor": 4
}
