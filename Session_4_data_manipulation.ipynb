{
 "cells": [
  {
   "cell_type": "markdown",
   "metadata": {},
   "source": [
    "\n",
    "\n",
    "![SVG from www](https://upload.wikimedia.org/wikipedia/commons/thumb/a/a2/Kühne_Logistics_University_logo_2019.svg/100px-Kühne_Logistics_University_logo_2019.svg.png)  \n",
    "# Python Basics course September 2022  \n",
    "### Kuehne Logistics University  "
   ]
  },
  {
   "cell_type": "markdown",
   "metadata": {},
   "source": [
    "## Session 4: Introduction to data manipulation using the Numpy and Pandas library"
   ]
  },
  {
   "cell_type": "markdown",
   "metadata": {},
   "source": [
    "In this session we will start with data manipulation with Python. Recall how in session 1 we briefly discussed the software framework that's often used by programmes written in Python. Central to functionality in Python are the Libraries. One of such library, which is the go-to one to do anything related to data manipulation is called Pandas. Besides the the quick introduction that we're giving you here, Pandas has innumerable number of methods that we won't be able to disucss here. The more extensive user guide however can be found [here](https://pandas.pydata.org/docs/user_guide/index.html#user-guide).\n",
    "\n",
    "![](Figures/SoftwareLogic.png)\n",
    "\n"
   ]
  },
  {
   "cell_type": "markdown",
   "metadata": {},
   "source": [
    "## The Pandas DataFrame\n",
    "\n",
    "Central to working with Pandas is the format in which data is stored. This format is called `DataFrame`. You could compare this to storing data in an Excel spreadsheet. Namely, the way and the options of manipulations you have at your disposal, are the ones that Excel provides to you. Very similarly, a `DataFrame` allows you to manipulate data in a certain way. Another example of datatype-based methods in Python are the `String` methods, discussed in Session 2. \n",
    "\n",
    "![](Figures/DF_Example.png)\n",
    "\n",
    "Before doing anything, we have to load the Pandas libraries into our kernel. This is done with the `import` statement. The `as` statement assigns an abbreviation to the name of the library. That way,we don't have to type the full name before calling a method from that particular library. \n",
    "\n"
   ]
  },
  {
   "cell_type": "code",
   "execution_count": null,
   "metadata": {},
   "outputs": [],
   "source": [
    "import pandas as pd"
   ]
  },
  {
   "cell_type": "markdown",
   "metadata": {},
   "source": [
    "The easy way to construct a DataFrame is to \"feed\" it with a `dictionary`. A dictionary is a Python-native way of storing data. A dictionary is initiated as follows: \n",
    "`{index:data}`. In the example below, we saved data on the brand, model and production years of a car. This can then be accessed through the index name.\n",
    "\n",
    "__Note:__ we can assign different types of data in one dictionary"
   ]
  },
  {
   "cell_type": "code",
   "execution_count": null,
   "metadata": {},
   "outputs": [],
   "source": [
    "thisdict = {\n",
    "  \"brand\": \"Ford\",\n",
    "  \"model\": \"Mustang\",\n",
    "  \"year\": [1964,1965,1966]\n",
    "}\n",
    "print(thisdict[\"brand\"]) # Printing the brand name\n",
    "print(thisdict[\"year\"]) # Printing the LIST of years of production"
   ]
  },
  {
   "cell_type": "markdown",
   "metadata": {},
   "source": [
    "Now, getting back to the constructing a `DataFrame`. One is constructed by calling the method `pandas.DataFrame()`. (In this case it's called with `pd.DataFrame()`, because we abbreviated Pandas with pd with the `as` statement). "
   ]
  },
  {
   "cell_type": "code",
   "execution_count": null,
   "metadata": {},
   "outputs": [],
   "source": [
    "# Construct a dictionary \n",
    "cars = {'Brand': ['Honda', 'Toyota', 'Ford', 'Audi','Honda','Audi'], 'Price': [22000, 25000, 27000, 35000,30000,10000]}\n",
    "\n",
    "# Make it into a DataFrame\n",
    "df = pd.DataFrame(cars)\n",
    "\n",
    "# Display the DataFrame\n",
    "df"
   ]
  },
  {
   "cell_type": "markdown",
   "metadata": {},
   "source": [
    "We can also tell it to only select the data with the index name `Price`. "
   ]
  },
  {
   "cell_type": "code",
   "execution_count": null,
   "metadata": {},
   "outputs": [],
   "source": [
    "df = pd.DataFrame(cars, columns = ['Price'])\n",
    "\n",
    "df"
   ]
  },
  {
   "cell_type": "markdown",
   "metadata": {},
   "source": [
    "The `.describe()` method gives a small summary for each of the numeric columns. "
   ]
  },
  {
   "cell_type": "code",
   "execution_count": null,
   "metadata": {},
   "outputs": [],
   "source": [
    "df = pd.DataFrame(cars)\n",
    "df['Price'].describe()"
   ]
  },
  {
   "cell_type": "markdown",
   "metadata": {},
   "source": [
    "We can also add a column, simply as follows: \n",
    "\n",
    "__Note__: the added column has to be the same length as the DataFrame to which it is added. "
   ]
  },
  {
   "cell_type": "code",
   "execution_count": null,
   "metadata": {},
   "outputs": [],
   "source": [
    "df['Color'] = ['green', 'blue', 'green', 'red','black','yellow']\n",
    "df"
   ]
  },
  {
   "cell_type": "markdown",
   "metadata": {},
   "source": [
    "### Selecting columns and rows\n",
    "A selection for a column can be made by subselecting the name of the column as follows:"
   ]
  },
  {
   "cell_type": "code",
   "execution_count": null,
   "metadata": {},
   "outputs": [],
   "source": [
    "df[\"Brand\"]"
   ]
  },
  {
   "cell_type": "markdown",
   "metadata": {},
   "source": [
    "Then we can select one entry based on the index value:"
   ]
  },
  {
   "cell_type": "code",
   "execution_count": null,
   "metadata": {},
   "outputs": [],
   "source": [
    "df[\"Brand\"][0]"
   ]
  },
  {
   "cell_type": "markdown",
   "metadata": {},
   "source": [
    "Note that this does not work for the \"whole\" DataFrame.To do so, we need the `.loc` argument, using as follows:"
   ]
  },
  {
   "cell_type": "code",
   "execution_count": null,
   "metadata": {},
   "outputs": [],
   "source": [
    "df.loc[0,\"Brand\"]"
   ]
  },
  {
   "cell_type": "markdown",
   "metadata": {},
   "source": [
    "We can also approach the DataFrame as a \"simple\" matrix, from which we select a row and a column, using the `.iloc[row,column]` statement. Recall how we can select data entries from a list. Now, we have to do it in two dimensions, due to the matrix shape of a DataFrame.\n",
    "![](Figures/hello.png)"
   ]
  },
  {
   "cell_type": "code",
   "execution_count": null,
   "metadata": {},
   "outputs": [],
   "source": [
    "df.iloc[0,0]"
   ]
  },
  {
   "cell_type": "markdown",
   "metadata": {},
   "source": [
    "Subsequently, for a list we can use the `:`, as follows:"
   ]
  },
  {
   "cell_type": "code",
   "execution_count": null,
   "metadata": {},
   "outputs": [],
   "source": [
    "df.iloc[0:2,0:3]"
   ]
  },
  {
   "cell_type": "markdown",
   "metadata": {},
   "source": [
    "In order to __save__ a subset of a DataFrame we want to work further with, we have to assign a new variable name (or overwrite). "
   ]
  },
  {
   "cell_type": "code",
   "execution_count": null,
   "metadata": {},
   "outputs": [],
   "source": [
    "subset = df.iloc[0:2,0:3]\n",
    "subset"
   ]
  },
  {
   "cell_type": "markdown",
   "metadata": {},
   "source": [
    "### Working with Pokedata\n",
    "Practically, we would like work with datasets that we don't create ourselves, but acquire externally. For the examples, we acquire a dataset from the following GitHub\n",
    "https://github.com/KeithGalli/pandas\n",
    "\n",
    "With all kinds of information about Pokémons. The information is stored in a \"comma-separated values\" file (.csv). This a very common smaller and bigger datasets. \n",
    "\n",
    "First, we start with loading the data using the `pandas.read_csv()` method. The input is a string with the location of the data file. This can be retrieved using the command `%pwd`, which returns the address of the so-called working directory. "
   ]
  },
  {
   "cell_type": "code",
   "execution_count": null,
   "metadata": {},
   "outputs": [],
   "source": [
    "%pwd"
   ]
  },
  {
   "cell_type": "code",
   "execution_count": null,
   "metadata": {},
   "outputs": [],
   "source": [
    "## Larger datasets: Pokemons \n",
    "pwd = %pwd\n",
    "#poke_data = pd.read_csv(pwd+\"\\\\pokemon_data.csv\")\n",
    "poke_data = pd.read_csv(pwd+\"/pokemon_data.csv\")"
   ]
  },
  {
   "cell_type": "markdown",
   "metadata": {},
   "source": [
    "Using the `.head()` and `.tail()` functions yields us an easy initial exploreation of the first and last rows of our dataset"
   ]
  },
  {
   "cell_type": "code",
   "execution_count": null,
   "metadata": {},
   "outputs": [],
   "source": [
    "poke_data.head(3)"
   ]
  },
  {
   "cell_type": "code",
   "execution_count": null,
   "metadata": {},
   "outputs": [],
   "source": [
    "poke_data.tail(5)"
   ]
  },
  {
   "cell_type": "markdown",
   "metadata": {},
   "source": [
    "The `len()` method can be used to see the number of rows of a dataset"
   ]
  },
  {
   "cell_type": "code",
   "execution_count": null,
   "metadata": {},
   "outputs": [],
   "source": [
    "len(poke_data)"
   ]
  },
  {
   "cell_type": "markdown",
   "metadata": {},
   "source": [
    "And, again, the `.describe()` method to see a brief description of our columns with numeric data. "
   ]
  },
  {
   "cell_type": "code",
   "execution_count": null,
   "metadata": {},
   "outputs": [],
   "source": [
    "poke_data.describe()"
   ]
  },
  {
   "cell_type": "markdown",
   "metadata": {},
   "source": [
    "### Selecting data\n",
    "\n",
    "Besides the examples that were given with the small dataset about cars, we also have more sophisticated ways of selecting the data, based on the information _in_ the data itself. The basis of this is a list of Boolean (recall: `True` or `False`), representing whether we want to select something, or not. \n",
    "\n",
    "Taking the small example of comparing the Name column in the dataset with the name of one Pokémon Bulbasaur. This yields a list of Booleans, with a `True` on the 0th index. "
   ]
  },
  {
   "cell_type": "code",
   "execution_count": null,
   "metadata": {},
   "outputs": [],
   "source": [
    "poke_data['Name']=='Bulbasaur'"
   ]
  },
  {
   "cell_type": "markdown",
   "metadata": {},
   "source": [
    "If we select the 0th row from the dataset we indeed find Bulbasaur. "
   ]
  },
  {
   "cell_type": "code",
   "execution_count": null,
   "metadata": {},
   "outputs": [],
   "source": [
    "poke_data.iloc[0]"
   ]
  },
  {
   "cell_type": "markdown",
   "metadata": {},
   "source": [
    "Knowing this, we can also select a subset for Grass Pokémons as follows:"
   ]
  },
  {
   "cell_type": "code",
   "execution_count": null,
   "metadata": {},
   "outputs": [],
   "source": [
    "poke_data[poke_data['Type 1']=='Grass']"
   ]
  },
  {
   "cell_type": "markdown",
   "metadata": {},
   "source": [
    "### Organising data\n",
    "DataFrames also have various methods to organise the data. Two examples that we discuss here are the `.sort_values()` and the `.groupby()` methods. "
   ]
  },
  {
   "cell_type": "code",
   "execution_count": null,
   "metadata": {},
   "outputs": [],
   "source": [
    "poke_data.sort_values(['HP'])"
   ]
  },
  {
   "cell_type": "code",
   "execution_count": null,
   "metadata": {},
   "outputs": [],
   "source": [
    "poke_data.groupby(['Generation']).sum()"
   ]
  },
  {
   "cell_type": "code",
   "execution_count": null,
   "metadata": {},
   "outputs": [],
   "source": [
    "poke_data.groupby(['Generation']).count()"
   ]
  },
  {
   "cell_type": "markdown",
   "metadata": {},
   "source": [
    "### Learning from the data\n",
    "There's many functionality in Pandas that allow us to make general statements about the dataset that would be very difficult to do manually. "
   ]
  },
  {
   "cell_type": "code",
   "execution_count": null,
   "metadata": {},
   "outputs": [],
   "source": [
    "print(\"The mean is \", poke_data['HP'].mean() )\n",
    "print(\"The min is \", poke_data['HP'].min() )\n",
    "print(\"The max is \", poke_data['HP'].max() )"
   ]
  },
  {
   "cell_type": "code",
   "execution_count": null,
   "metadata": {},
   "outputs": [],
   "source": [
    "gen1_grass = poke_data[ (poke_data['Type 1'] == 'Grass') & (poke_data['Generation'] == 1) ]\n",
    "gen5_grass = poke_data[ (poke_data['Type 1'] == 'Grass') & (poke_data['Generation'] == 5) ]\n",
    "\n",
    "print(len(gen1_grass),\"grass pokemons in gen 1\\n\",len(gen5_grass),\"grass pokemons in gen 5\")"
   ]
  },
  {
   "cell_type": "code",
   "execution_count": null,
   "metadata": {},
   "outputs": [],
   "source": [
    "# Strong pokemons\n",
    "strong_pokemons = poke_data[poke_data['HP'] > 50]\n",
    "print(\"There are \",len(strong_pokemons), \" strong pokemons\")"
   ]
  },
  {
   "cell_type": "code",
   "execution_count": null,
   "metadata": {},
   "outputs": [],
   "source": [
    "# Identifying the strongest pokemon\n",
    "maxHP = poke_data['HP'].max() # Max HP value\n",
    "strongest_pokemon = poke_data[poke_data['HP'] == maxHP] # Equal the max HP value to a row\n",
    "print(\"Strongest pokemon is : \",strongest_pokemon[\"Name\"]) # Print the name of the strongest Pokemon "
   ]
  },
  {
   "cell_type": "markdown",
   "metadata": {},
   "source": [
    "The `.groupby()` method is a powerful method that allows you to group data entries based on certain properties. In this case, we can can for example get the mean and summed HP for every Type 1 Pokemon. The `.count()` method counts the number of data entries that each category contains. "
   ]
  },
  {
   "cell_type": "code",
   "execution_count": null,
   "metadata": {},
   "outputs": [],
   "source": [
    "# Groupby mean \n",
    "poke_data.groupby(['Type 1']).mean()"
   ]
  },
  {
   "cell_type": "code",
   "execution_count": null,
   "metadata": {},
   "outputs": [],
   "source": [
    "# Groupby sum \n",
    "poke_data.groupby(['Type 1']).sum()"
   ]
  },
  {
   "cell_type": "code",
   "execution_count": null,
   "metadata": {},
   "outputs": [],
   "source": [
    "# Groupby count\n",
    "poke_data.groupby(['Type 1']).count()"
   ]
  },
  {
   "cell_type": "markdown",
   "metadata": {},
   "source": [
    "### Simple visualisation\n",
    "\n",
    "Besides the aforementioned methods, a DataFrame also has the possibility to be visualised in a simple manner by the `.plot()` method. All options are listed [here](https://pandas.pydata.org/docs/reference/api/pandas.DataFrame.plot.html). \n",
    "\n",
    "By default, a line is plotted, but many more options are possible: \n",
    "\n",
    "* ‘line’ : line plot (default)\n",
    "* ‘bar’ : vertical bar plot\n",
    "* ‘barh’ : horizontal bar plot\n",
    "* ‘hist’ : histogram\n",
    "* ‘box’ : boxplot\n",
    "* ‘kde’ : Kernel Density Estimation plot\n",
    "* ‘density’ : same as ‘kde’\n",
    "* ‘area’ : area plot"
   ]
  },
  {
   "cell_type": "code",
   "execution_count": null,
   "metadata": {},
   "outputs": [],
   "source": [
    "mean_type1 = poke_data.groupby(['Type 1']).mean()\n",
    "mean_type1['HP'].plot(kind='line');"
   ]
  },
  {
   "cell_type": "code",
   "execution_count": null,
   "metadata": {},
   "outputs": [],
   "source": [
    "# And a little more readable\n",
    "mean_type1['HP'].plot(kind='bar',title=\"HP per Type 1\",ylabel='HP points');"
   ]
  },
  {
   "cell_type": "markdown",
   "metadata": {},
   "source": [
    "## Exercises on the sample sales dataset\n",
    "\n",
    "* First load in the dataset \"SampleSales.csv\", located in the working directory.\n",
    "\n",
    "* How many individual customers do we have? \n",
    "* How many orders did we have in Miami? \n",
    "\n",
    "* How much profit did we make in the West region? \n",
    "* How much profit did we make in total? \n",
    "* How much profit did we make, besides California? \n",
    "* Make a table-wise overview of the profit per state. \n",
    "\n",
    "* What is the most profitable order?\n",
    "\n",
    "Think about the labels for the x and y-axis and titles!\n",
    "* Visualise the turnover for each region using a barplot "
   ]
  },
  {
   "cell_type": "code",
   "execution_count": null,
   "metadata": {},
   "outputs": [],
   "source": []
  },
  {
   "cell_type": "markdown",
   "metadata": {
    "tags": []
   },
   "source": [
    "## Extra exercises\n",
    "Hint: Use Google!\n",
    "\n",
    "* How much profit did we made, on average, per unit for each customer? (Hint: use the profit, customer ID/name and Quantity columns)\n",
    "\n",
    "* What percentage of profit did we \"lose\" on discount for Furniture in 2015 (user order date)? Hint: DateTime is automatically recognised and can be compared as strings. E.g. 01\\03\\2016>01\\06\\2017 results in False.\n",
    "\n",
    "* Visualise the profit for both the consumer and corporate segment using a boxplot\n",
    "\n",
    "* The SampleSales dataset contains a column \"Row ID\". Try to load the dataset without this column. "
   ]
  },
  {
   "cell_type": "code",
   "execution_count": null,
   "metadata": {},
   "outputs": [],
   "source": []
  }
 ],
 "metadata": {
  "kernelspec": {
   "display_name": "Python 3 (ipykernel)",
   "language": "python",
   "name": "python3"
  },
  "language_info": {
   "codemirror_mode": {
    "name": "ipython",
    "version": 3
   },
   "file_extension": ".py",
   "mimetype": "text/x-python",
   "name": "python",
   "nbconvert_exporter": "python",
   "pygments_lexer": "ipython3",
   "version": "3.9.12"
  }
 },
 "nbformat": 4,
 "nbformat_minor": 4
}
